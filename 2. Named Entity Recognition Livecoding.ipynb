{
  "cells": [
    {
      "cell_type": "markdown",
      "id": "45a2da87",
      "metadata": {
        "id": "45a2da87"
      },
      "source": [
        "# Named Entity Recognition\n",
        "- For a given word and its context window, estimate whether the given word is location or not"
      ]
    },
    {
      "cell_type": "markdown",
      "id": "11619f5d",
      "metadata": {
        "id": "11619f5d"
      },
      "source": [
        "# 1. Download dataset\n",
        "- CoNLL2003 "
      ]
    },
    {
      "cell_type": "code",
      "execution_count": 2,
      "id": "10a4faa3",
      "metadata": {
        "colab": {
          "base_uri": "https://localhost:8080/"
        },
        "id": "10a4faa3",
        "outputId": "a56bd7fa-c9f1-4902-8869-d1d9b83298fe"
      },
      "outputs": [
        {
          "output_type": "stream",
          "name": "stdout",
          "text": [
            "--2022-04-08 11:04:04--  https://data.deepai.org/conll2003.zip\n",
            "Resolving data.deepai.org (data.deepai.org)... 138.201.36.183\n",
            "Connecting to data.deepai.org (data.deepai.org)|138.201.36.183|:443... connected.\n",
            "HTTP request sent, awaiting response... 200 OK\n",
            "Length: 982975 (960K) [application/x-zip-compressed]\n",
            "Saving to: ‘conll2003.zip’\n",
            "\n",
            "conll2003.zip       100%[===================>] 959.94K  --.-KB/s    in 0.06s   \n",
            "\n",
            "2022-04-08 11:04:04 (15.2 MB/s) - ‘conll2003.zip’ saved [982975/982975]\n",
            "\n",
            "Archive:  conll2003.zip\n",
            "  inflating: metadata                \n",
            "  inflating: test.txt                \n",
            "  inflating: train.txt               \n",
            "  inflating: valid.txt               \n"
          ]
        }
      ],
      "source": [
        "!wget https://data.deepai.org/conll2003.zip # Download dataset\n",
        "!unzip conll2003.zip # Unzip dataset zip"
      ]
    },
    {
      "cell_type": "markdown",
      "id": "7643dde5",
      "metadata": {
        "id": "7643dde5"
      },
      "source": [
        "## 2. Preprocess Dataset"
      ]
    },
    {
      "cell_type": "code",
      "execution_count": 3,
      "id": "d31874b2",
      "metadata": {
        "colab": {
          "base_uri": "https://localhost:8080/"
        },
        "id": "d31874b2",
        "outputId": "429a5ab0-2a3b-4cb0-f0f8-4fd6724d3cfe"
      },
      "outputs": [
        {
          "output_type": "execute_result",
          "data": {
            "text/plain": [
              "[\"'s POS B-NP O\",\n",
              " 'representative NN I-NP O',\n",
              " 'to TO B-PP O',\n",
              " 'the DT B-NP O',\n",
              " 'European NNP I-NP B-ORG',\n",
              " 'Union NNP I-NP I-ORG',\n",
              " \"'s POS B-NP O\",\n",
              " 'veterinary JJ I-NP O',\n",
              " 'committee NN I-NP O',\n",
              " 'Werner NNP I-NP B-PER',\n",
              " 'Zwingmann NNP I-NP I-PER',\n",
              " 'said VBD B-VP O',\n",
              " 'on IN B-PP O',\n",
              " 'Wednesday NNP B-NP O',\n",
              " 'consumers NNS I-NP O',\n",
              " 'should MD B-VP O',\n",
              " 'buy VB I-VP O',\n",
              " 'sheepmeat NN B-NP O',\n",
              " 'from IN B-PP O',\n",
              " 'countries NNS B-NP O',\n",
              " 'other JJ B-ADJP O',\n",
              " 'than IN B-PP O',\n",
              " 'Britain NNP B-NP B-LOC',\n",
              " 'until IN B-SBAR O',\n",
              " 'the DT B-NP O',\n",
              " 'scientific JJ I-NP O',\n",
              " 'advice NN I-NP O',\n",
              " 'was VBD B-VP O',\n",
              " 'clearer JJR B-ADJP O',\n",
              " '. . O O']"
            ]
          },
          "metadata": {},
          "execution_count": 3
        }
      ],
      "source": [
        "with open(\"train.txt\") as f:\n",
        "  string = ''.join(f.readlines())\n",
        "dataset = string.split('\\n')\n",
        "\n",
        "dataset[50:80]"
      ]
    },
    {
      "cell_type": "code",
      "execution_count": 4,
      "id": "49e7f34b",
      "metadata": {
        "scrolled": true,
        "colab": {
          "base_uri": "https://localhost:8080/"
        },
        "id": "49e7f34b",
        "outputId": "34d49a88-c57b-45ab-fc54-a7b1a46fac51"
      },
      "outputs": [
        {
          "output_type": "execute_result",
          "data": {
            "text/plain": [
              "[['-DOCSTART- -X- -X- O'],\n",
              " ['EU NNP B-NP B-ORG',\n",
              "  'rejects VBZ B-VP O',\n",
              "  'German JJ B-NP B-MISC',\n",
              "  'call NN I-NP O',\n",
              "  'to TO B-VP O',\n",
              "  'boycott VB I-VP O',\n",
              "  'British JJ B-NP B-MISC',\n",
              "  'lamb NN I-NP O',\n",
              "  '. . O O'],\n",
              " ['Peter NNP B-NP B-PER', 'Blackburn NNP I-NP I-PER'],\n",
              " ['BRUSSELS NNP B-NP B-LOC', '1996-08-22 CD I-NP O'],\n",
              " ['The DT B-NP O',\n",
              "  'European NNP I-NP B-ORG',\n",
              "  'Commission NNP I-NP I-ORG',\n",
              "  'said VBD B-VP O',\n",
              "  'on IN B-PP O',\n",
              "  'Thursday NNP B-NP O',\n",
              "  'it PRP B-NP O',\n",
              "  'disagreed VBD B-VP O',\n",
              "  'with IN B-PP O',\n",
              "  'German JJ B-NP B-MISC',\n",
              "  'advice NN I-NP O',\n",
              "  'to TO B-PP O',\n",
              "  'consumers NNS B-NP O',\n",
              "  'to TO B-VP O',\n",
              "  'shun VB I-VP O',\n",
              "  'British JJ B-NP B-MISC',\n",
              "  'lamb NN I-NP O',\n",
              "  'until IN B-SBAR O',\n",
              "  'scientists NNS B-NP O',\n",
              "  'determine VBP B-VP O',\n",
              "  'whether IN B-SBAR O',\n",
              "  'mad JJ B-NP O',\n",
              "  'cow NN I-NP O',\n",
              "  'disease NN I-NP O',\n",
              "  'can MD B-VP O',\n",
              "  'be VB I-VP O',\n",
              "  'transmitted VBN I-VP O',\n",
              "  'to TO B-PP O',\n",
              "  'sheep NN B-NP O',\n",
              "  '. . O O']]"
            ]
          },
          "metadata": {},
          "execution_count": 4
        }
      ],
      "source": [
        "from itertools import groupby\n",
        "\n",
        "dataset_in_sentence = [list(group) for k, group in groupby(dataset, lambda x: x == \"\") if not k]\n",
        "dataset_in_sentence[:5]"
      ]
    },
    {
      "cell_type": "markdown",
      "id": "18c29a2a",
      "metadata": {
        "id": "18c29a2a"
      },
      "source": [
        "### 2.1 Make Data Loader"
      ]
    },
    {
      "cell_type": "code",
      "execution_count": 5,
      "id": "8a4d1fbc",
      "metadata": {
        "scrolled": true,
        "colab": {
          "base_uri": "https://localhost:8080/"
        },
        "id": "8a4d1fbc",
        "outputId": "72e70cc2-2b18-49fb-c485-9385088bc6c3"
      },
      "outputs": [
        {
          "output_type": "stream",
          "name": "stdout",
          "text": [
            "['The DT B-NP O', 'European NNP I-NP B-ORG', 'Commission NNP I-NP I-ORG', 'said VBD B-VP O', 'on IN B-PP O', 'Thursday NNP B-NP O', 'it PRP B-NP O', 'disagreed VBD B-VP O', 'with IN B-PP O', 'German JJ B-NP B-MISC', 'advice NN I-NP O', 'to TO B-PP O', 'consumers NNS B-NP O', 'to TO B-VP O', 'shun VB I-VP O', 'British JJ B-NP B-MISC', 'lamb NN I-NP O', 'until IN B-SBAR O', 'scientists NNS B-NP O', 'determine VBP B-VP O', 'whether IN B-SBAR O', 'mad JJ B-NP O', 'cow NN I-NP O', 'disease NN I-NP O', 'can MD B-VP O', 'be VB I-VP O', 'transmitted VBN I-VP O', 'to TO B-PP O', 'sheep NN B-NP O', '. . O O']\n",
            "['PAD', 'PAD', 'the', 'european', 'commission']\n"
          ]
        }
      ],
      "source": [
        "window_size = 2 \n",
        "sentence = dataset_in_sentence[4]\n",
        "word_idx = 0\n",
        "center_word = sentence[2].split(' ')[0]\n",
        "\n",
        "# from word_idx - window_length until word_idx + window_length\n",
        "def get_words_window(sentence, word_idx, window_size):\n",
        "  idx_range = range( max(word_idx-window_size, 0), min(word_idx+window_size+1, len(sentence)))\n",
        "  windowed_words = [sentence[idx].split(' ')[0].lower() for idx in idx_range]\n",
        "  \n",
        "  if word_idx < window_size:\n",
        "    windowed_words = ['PAD'] * (window_size-word_idx) + windowed_words\n",
        "  if word_idx + window_size >= len(sentence):\n",
        "    windowed_words += ['PAD'] * (word_idx + window_size -len(sentence)+1)\n",
        "  \n",
        "  assert len(windowed_words) == 1+window_size*2, \"The length of output has to follow window size\"\n",
        "  return windowed_words\n",
        "\n",
        "print(sentence)\n",
        "print(get_words_window(sentence, word_idx, window_size))\n",
        "# center_word"
      ]
    },
    {
      "cell_type": "code",
      "execution_count": 6,
      "id": "d1c52b6c",
      "metadata": {
        "colab": {
          "base_uri": "https://localhost:8080/"
        },
        "id": "d1c52b6c",
        "outputId": "ac187374-0607-4df6-85cd-4d4ead3b4274"
      },
      "outputs": [
        {
          "output_type": "stream",
          "name": "stdout",
          "text": [
            "[==================================================] 100.0% 376.1/376.1MB downloaded\n"
          ]
        }
      ],
      "source": [
        "import gensim.downloader\n",
        "\n",
        "wrd2vec = gensim.downloader.load(\"glove-wiki-gigaword-300\")"
      ]
    },
    {
      "cell_type": "code",
      "execution_count": 7,
      "id": "b5a0f80d",
      "metadata": {
        "colab": {
          "base_uri": "https://localhost:8080/"
        },
        "id": "b5a0f80d",
        "outputId": "a5b2f384-2a66-4c16-e221-7dc7db305a43"
      },
      "outputs": [
        {
          "output_type": "stream",
          "name": "stdout",
          "text": [
            "['PAD', 'PAD', 'the', 'european', 'commission']\n",
            "the [ 0.04656    0.21318   -0.0074364 -0.45854   -0.035639   0.23643\n",
            " -0.28836    0.21521   -0.13486   -1.6413   ]\n",
            "european [ 0.37636   0.1245    0.13028   0.024309  0.50706   0.18205  -0.44874\n",
            "  0.35522   0.27065  -2.2199  ]\n",
            "commission [ 4.7286e-01 -3.9634e-01 -2.6584e-01  1.2371e-02 -2.5906e-01 -2.5823e-01\n",
            "  1.1492e-01 -1.4363e-01  2.0568e-03 -2.2627e+00]\n"
          ]
        }
      ],
      "source": [
        "word_idx = 0\n",
        "words_window = get_words_window(sentence, word_idx, window_size)\n",
        "print(words_window)\n",
        "for word in words_window:\n",
        "  if word in wrd2vec:\n",
        "    print(word , wrd2vec[word][:10])"
      ]
    },
    {
      "cell_type": "code",
      "execution_count": 8,
      "id": "5a6bd62c",
      "metadata": {
        "colab": {
          "base_uri": "https://localhost:8080/"
        },
        "id": "5a6bd62c",
        "outputId": "7c09d526-2467-4ecd-bfb2-0cca88de83d9"
      },
      "outputs": [
        {
          "output_type": "stream",
          "name": "stderr",
          "text": [
            "/usr/local/lib/python3.7/dist-packages/ipykernel_launcher.py:7: UserWarning: The given NumPy array is not writeable, and PyTorch does not support non-writeable tensors. This means you can write to the underlying (supposedly non-writeable) NumPy array using the tensor. You may want to copy the array to protect its data or make it writeable before converting it to a tensor. This type of warning will be suppressed for the rest of this program. (Triggered internally at  ../torch/csrc/utils/tensor_numpy.cpp:189.)\n",
            "  import sys\n"
          ]
        }
      ],
      "source": [
        "# concat vectors\n",
        "import torch\n",
        "\n",
        "concat_vector = []\n",
        "for word in words_window:\n",
        "  if word in wrd2vec:\n",
        "    concat_vector.append(torch.Tensor(wrd2vec[word]))\n",
        "  else:\n",
        "    zero_vector = torch.zeros(300)\n",
        "    concat_vector.append(zero_vector)\n",
        "\n",
        "concat_tensor = torch.cat(concat_vector)\n"
      ]
    },
    {
      "cell_type": "code",
      "execution_count": 9,
      "id": "a52c7369",
      "metadata": {
        "colab": {
          "base_uri": "https://localhost:8080/"
        },
        "id": "a52c7369",
        "outputId": "d75248bb-f5fc-4fa1-a7e0-34ecb047f6a8"
      },
      "outputs": [
        {
          "output_type": "execute_result",
          "data": {
            "text/plain": [
              "tensor(True)"
            ]
          },
          "metadata": {},
          "execution_count": 9
        }
      ],
      "source": [
        "def make_flattened_vector_for_words_window(words_window):\n",
        "  '''\n",
        "  words_window (list): A list of words, with length 1+window_size*2\n",
        "  '''\n",
        "  output = [torch.Tensor(wrd2vec[word]) if word in wrd2vec else torch.zeros(300) for word in words_window ]\n",
        "  \n",
        "  return torch.cat(output)\n",
        "\n",
        "'''\n",
        "If you want to compare two tensors, and make sure those two tensors are exactly same (for every dimension)\n",
        "you can use a booltensor.all()\n",
        "'''\n",
        "bool_tensor = concat_tensor == make_flattened_vector_for_words_window(words_window)\n",
        "bool_tensor.all()\n",
        "# (concat_tensor == make_flattened_vector_for_words_window(words_window)).all()\n",
        "  \n",
        "  "
      ]
    },
    {
      "cell_type": "code",
      "execution_count": 9,
      "id": "401cc7a0",
      "metadata": {
        "id": "401cc7a0"
      },
      "outputs": [],
      "source": [
        ""
      ]
    },
    {
      "cell_type": "code",
      "execution_count": 10,
      "id": "d5cc5ff0",
      "metadata": {
        "colab": {
          "base_uri": "https://localhost:8080/",
          "height": 72
        },
        "id": "d5cc5ff0",
        "outputId": "ba927bf4-7cae-493f-ba04-f71a78605b3f"
      },
      "outputs": [
        {
          "output_type": "stream",
          "name": "stdout",
          "text": [
            "tensor(False)\n"
          ]
        },
        {
          "output_type": "execute_result",
          "data": {
            "text/plain": [
              "\"\\n[300 300 300 300 300]\\n1500 \\n\\nconcat_tensor's 1200th dimension\\n= 0th dimension of the 4th word\\n\\nconcat_tensor's 50th dimension\\n= 50th dimension of the 0th word\\n\\nconcat_tensor's 350th dimension\\n= 50th dimension of the 1st word\\n\\n\\n\""
            ],
            "application/vnd.google.colaboratory.intrinsic+json": {
              "type": "string"
            }
          },
          "metadata": {},
          "execution_count": 10
        }
      ],
      "source": [
        "concat_tensor = torch.cat(concat_vector)\n",
        "\n",
        "print(concat_tensor[650] == concat_vector[2][49])\n",
        "'''\n",
        "[300 300 300 300 300]\n",
        "1500 \n",
        "\n",
        "concat_tensor's 1200th dimension\n",
        "= 0th dimension of the 4th word\n",
        "\n",
        "concat_tensor's 50th dimension\n",
        "= 50th dimension of the 0th word\n",
        "\n",
        "concat_tensor's 350th dimension\n",
        "= 50th dimension of the 1st word\n",
        "\n",
        "\n",
        "'''"
      ]
    },
    {
      "cell_type": "code",
      "execution_count": 11,
      "id": "e89c74c8",
      "metadata": {
        "id": "e89c74c8"
      },
      "outputs": [],
      "source": [
        "import torch.nn as nn\n",
        "\n",
        "hidden_size = 128\n",
        "first_layer = nn.Linear(300*5, 128, bias=True)"
      ]
    },
    {
      "cell_type": "code",
      "execution_count": 12,
      "id": "d62884d5",
      "metadata": {
        "colab": {
          "base_uri": "https://localhost:8080/"
        },
        "id": "d62884d5",
        "outputId": "40cf9559-377c-44cf-883c-4d152dd72f89"
      },
      "outputs": [
        {
          "output_type": "execute_result",
          "data": {
            "text/plain": [
              "torch.Size([128, 1500])"
            ]
          },
          "metadata": {},
          "execution_count": 12
        }
      ],
      "source": [
        "first_layer.weight.shape"
      ]
    },
    {
      "cell_type": "code",
      "execution_count": 13,
      "id": "ee1beaec",
      "metadata": {
        "colab": {
          "base_uri": "https://localhost:8080/"
        },
        "id": "ee1beaec",
        "outputId": "3c6a4726-02a9-4882-d899-5504c4b05b25"
      },
      "outputs": [
        {
          "output_type": "execute_result",
          "data": {
            "text/plain": [
              "torch.Size([128])"
            ]
          },
          "metadata": {},
          "execution_count": 13
        }
      ],
      "source": [
        "first_layer.bias.shape"
      ]
    },
    {
      "cell_type": "code",
      "execution_count": 14,
      "id": "6b2d23ea",
      "metadata": {
        "colab": {
          "base_uri": "https://localhost:8080/"
        },
        "id": "6b2d23ea",
        "outputId": "9f5479f4-4855-41f6-ccd8-77c061a8218e"
      },
      "outputs": [
        {
          "output_type": "execute_result",
          "data": {
            "text/plain": [
              "(torch.Size([1500]), torch.Size([128]))"
            ]
          },
          "metadata": {},
          "execution_count": 14
        }
      ],
      "source": [
        "hidden = first_layer(concat_tensor)\n",
        "concat_tensor.shape, hidden.shape"
      ]
    },
    {
      "cell_type": "code",
      "execution_count": 15,
      "id": "1772c2c6",
      "metadata": {
        "colab": {
          "base_uri": "https://localhost:8080/"
        },
        "id": "1772c2c6",
        "outputId": "62f3e081-c763-4be2-9fd8-379b33a86c19"
      },
      "outputs": [
        {
          "output_type": "execute_result",
          "data": {
            "text/plain": [
              "tensor([-1.3723e-01,  3.8097e-02,  1.4992e-01, -6.3142e-02,  5.3149e-02,\n",
              "         2.3361e-01, -1.4420e-01,  1.1223e-01,  1.5945e-01, -8.9735e-02,\n",
              "         1.4885e-01, -2.7940e-01, -2.2343e-01,  1.0200e-01, -1.0637e-01,\n",
              "        -6.4971e-03,  1.8437e-01, -6.8376e-03,  1.9012e-02,  9.8348e-02,\n",
              "        -1.3074e-01,  2.3055e-02, -1.4266e-01, -3.7543e-01,  3.7367e-02,\n",
              "        -2.8981e-01, -1.2950e-01,  9.5905e-03,  1.6456e-02, -2.6561e-01,\n",
              "        -2.1292e-01,  3.5753e-02,  9.2579e-02, -8.3063e-02, -2.1770e-01,\n",
              "        -1.4796e-01,  7.5443e-02, -2.6057e-01,  2.4997e-01, -1.3558e-01,\n",
              "        -7.6784e-02,  5.8302e-02, -2.3875e-01,  8.6042e-02,  1.0954e-01,\n",
              "         1.8238e-01,  3.7254e-01, -1.8971e-02, -7.6749e-03,  1.8506e-02,\n",
              "         2.3441e-01,  1.7420e-01,  8.6771e-02,  1.8304e-01,  9.7018e-02,\n",
              "         3.2919e-01,  7.3461e-02, -1.3229e-01, -1.4962e-03,  2.6118e-01,\n",
              "        -1.1710e-01,  4.9896e-02, -1.5409e-01,  1.3064e-01,  6.0479e-02,\n",
              "        -2.1275e-02, -5.5834e-02,  2.6196e-01, -4.0936e-02, -7.6500e-02,\n",
              "        -7.2712e-02,  1.2357e-01,  1.8579e-01,  2.7562e-01,  3.6413e-03,\n",
              "         1.8895e-01, -3.7596e-02,  1.9971e-02,  8.4970e-02,  8.8002e-02,\n",
              "        -1.2819e-01, -1.9937e-01,  1.9124e-01, -1.5172e-01, -1.8858e-01,\n",
              "        -2.4209e-01,  2.1622e-03, -2.7804e-01, -2.4141e-01, -1.8998e-01,\n",
              "        -1.0698e-01, -1.2889e-01, -1.0829e-01,  2.5911e-01,  1.2860e-01,\n",
              "        -1.9269e-01,  1.6195e-01,  2.2848e-01, -2.2225e-01,  3.1072e-01,\n",
              "         3.2266e-01,  2.7207e-01, -3.3561e-01,  8.8165e-02, -1.5329e-01,\n",
              "        -3.7068e-02,  1.0392e-01, -1.7983e-01, -1.1302e-01, -3.8046e-02,\n",
              "        -2.3857e-01,  1.2146e-02,  1.1030e-01,  8.0779e-02,  1.3888e-01,\n",
              "        -6.9430e-02,  1.2199e-01,  2.9398e-01,  8.5384e-02, -5.0379e-02,\n",
              "         1.5708e-04, -2.5477e-01, -7.2103e-02, -1.2784e-01,  1.9732e-01,\n",
              "        -9.3023e-02, -1.3455e-01, -1.2120e-01], grad_fn=<AddBackward0>)"
            ]
          },
          "metadata": {},
          "execution_count": 15
        }
      ],
      "source": [
        "\n",
        "wx = torch.matmul(first_layer.weight, concat_tensor) \n",
        "b = first_layer.bias\n",
        "\n",
        "wx+b"
      ]
    },
    {
      "cell_type": "code",
      "execution_count": 16,
      "id": "4cd5e5c2",
      "metadata": {
        "colab": {
          "base_uri": "https://localhost:8080/"
        },
        "id": "4cd5e5c2",
        "outputId": "06eddc76-82ae-478a-b1cb-e4c1d82f31a8"
      },
      "outputs": [
        {
          "output_type": "execute_result",
          "data": {
            "text/plain": [
              "tensor([-1.3723e-01,  3.8097e-02,  1.4992e-01, -6.3142e-02,  5.3149e-02,\n",
              "         2.3361e-01, -1.4420e-01,  1.1223e-01,  1.5945e-01, -8.9735e-02,\n",
              "         1.4885e-01, -2.7940e-01, -2.2343e-01,  1.0200e-01, -1.0637e-01,\n",
              "        -6.4971e-03,  1.8437e-01, -6.8376e-03,  1.9012e-02,  9.8348e-02,\n",
              "        -1.3074e-01,  2.3055e-02, -1.4266e-01, -3.7543e-01,  3.7367e-02,\n",
              "        -2.8981e-01, -1.2950e-01,  9.5905e-03,  1.6456e-02, -2.6561e-01,\n",
              "        -2.1292e-01,  3.5753e-02,  9.2579e-02, -8.3063e-02, -2.1770e-01,\n",
              "        -1.4796e-01,  7.5443e-02, -2.6057e-01,  2.4997e-01, -1.3558e-01,\n",
              "        -7.6784e-02,  5.8302e-02, -2.3875e-01,  8.6042e-02,  1.0954e-01,\n",
              "         1.8238e-01,  3.7254e-01, -1.8971e-02, -7.6749e-03,  1.8506e-02,\n",
              "         2.3441e-01,  1.7420e-01,  8.6771e-02,  1.8304e-01,  9.7018e-02,\n",
              "         3.2919e-01,  7.3461e-02, -1.3229e-01, -1.4962e-03,  2.6118e-01,\n",
              "        -1.1710e-01,  4.9896e-02, -1.5409e-01,  1.3064e-01,  6.0479e-02,\n",
              "        -2.1275e-02, -5.5834e-02,  2.6196e-01, -4.0936e-02, -7.6500e-02,\n",
              "        -7.2712e-02,  1.2357e-01,  1.8579e-01,  2.7562e-01,  3.6413e-03,\n",
              "         1.8895e-01, -3.7596e-02,  1.9971e-02,  8.4970e-02,  8.8002e-02,\n",
              "        -1.2819e-01, -1.9937e-01,  1.9124e-01, -1.5172e-01, -1.8858e-01,\n",
              "        -2.4209e-01,  2.1622e-03, -2.7804e-01, -2.4141e-01, -1.8998e-01,\n",
              "        -1.0698e-01, -1.2889e-01, -1.0829e-01,  2.5911e-01,  1.2860e-01,\n",
              "        -1.9269e-01,  1.6195e-01,  2.2848e-01, -2.2225e-01,  3.1072e-01,\n",
              "         3.2266e-01,  2.7207e-01, -3.3561e-01,  8.8165e-02, -1.5329e-01,\n",
              "        -3.7068e-02,  1.0392e-01, -1.7983e-01, -1.1302e-01, -3.8046e-02,\n",
              "        -2.3857e-01,  1.2146e-02,  1.1030e-01,  8.0779e-02,  1.3888e-01,\n",
              "        -6.9430e-02,  1.2199e-01,  2.9398e-01,  8.5384e-02, -5.0379e-02,\n",
              "         1.5708e-04, -2.5477e-01, -7.2103e-02, -1.2784e-01,  1.9732e-01,\n",
              "        -9.3023e-02, -1.3455e-01, -1.2120e-01], grad_fn=<AddBackward0>)"
            ]
          },
          "metadata": {},
          "execution_count": 16
        }
      ],
      "source": [
        "first_layer(concat_tensor)"
      ]
    },
    {
      "cell_type": "code",
      "execution_count": 17,
      "id": "9af99d70",
      "metadata": {
        "colab": {
          "base_uri": "https://localhost:8080/"
        },
        "id": "9af99d70",
        "outputId": "605afdb7-e6b5-442c-ba4b-356e82eaa5b0"
      },
      "outputs": [
        {
          "output_type": "stream",
          "name": "stdout",
          "text": [
            "torch.Size([128, 1500])\n"
          ]
        },
        {
          "output_type": "execute_result",
          "data": {
            "text/plain": [
              "tensor([-0.0021, -0.0036,  0.0254,  ..., -0.0170,  0.0081,  0.0092],\n",
              "       grad_fn=<SelectBackward0>)"
            ]
          },
          "metadata": {},
          "execution_count": 17
        }
      ],
      "source": [
        "print(first_layer.weight.shape)\n",
        "first_layer.weight[0]"
      ]
    },
    {
      "cell_type": "code",
      "execution_count": 18,
      "id": "86ab205d",
      "metadata": {
        "scrolled": true,
        "id": "86ab205d"
      },
      "outputs": [],
      "source": [
        "entire_output = []\n",
        "for neuron in first_layer.weight:\n",
        "  entire_output.append((neuron * concat_tensor).sum())\n",
        "# entire_output\n",
        "                    "
      ]
    },
    {
      "cell_type": "code",
      "execution_count": 19,
      "id": "b03c750c",
      "metadata": {
        "colab": {
          "base_uri": "https://localhost:8080/"
        },
        "id": "b03c750c",
        "outputId": "e0d0bbde-c536-4c49-9d0d-b7ec0afa3b05"
      },
      "outputs": [
        {
          "output_type": "execute_result",
          "data": {
            "text/plain": [
              "['PAD', 'PAD', 'the', 'european', 'commission']"
            ]
          },
          "metadata": {},
          "execution_count": 19
        }
      ],
      "source": [
        "words_window"
      ]
    },
    {
      "cell_type": "code",
      "execution_count": 20,
      "id": "f6dbee12",
      "metadata": {
        "scrolled": true,
        "colab": {
          "base_uri": "https://localhost:8080/"
        },
        "id": "f6dbee12",
        "outputId": "f7bcb4a6-72f0-42aa-ebbe-5513dd78d31d"
      },
      "outputs": [
        {
          "output_type": "execute_result",
          "data": {
            "text/plain": [
              "tensor([ 0.0045,  0.0060,  0.0155, -0.0059,  0.0100,  0.0072, -0.0148,  0.0129,\n",
              "         0.0248, -0.0161, -0.0034,  0.0046,  0.0034, -0.0067,  0.0006,  0.0204,\n",
              "        -0.0159, -0.0097,  0.0204,  0.0251,  0.0130, -0.0193, -0.0179, -0.0198,\n",
              "        -0.0232,  0.0125, -0.0227,  0.0008,  0.0179, -0.0227,  0.0225,  0.0174,\n",
              "         0.0036,  0.0096,  0.0142,  0.0074, -0.0111, -0.0074,  0.0193, -0.0114,\n",
              "         0.0047,  0.0047,  0.0003, -0.0239,  0.0057, -0.0253, -0.0184, -0.0153,\n",
              "         0.0092, -0.0185, -0.0026,  0.0006, -0.0233,  0.0231, -0.0208, -0.0083,\n",
              "         0.0174, -0.0052, -0.0053,  0.0115, -0.0051, -0.0244, -0.0021, -0.0101,\n",
              "        -0.0102,  0.0131,  0.0011,  0.0094, -0.0064,  0.0118,  0.0211,  0.0039,\n",
              "         0.0222,  0.0046, -0.0239, -0.0042, -0.0206, -0.0166, -0.0136, -0.0202,\n",
              "        -0.0004,  0.0052, -0.0185,  0.0133, -0.0249, -0.0128,  0.0021, -0.0198,\n",
              "        -0.0225, -0.0091, -0.0134,  0.0215, -0.0243,  0.0216, -0.0103,  0.0164,\n",
              "        -0.0179, -0.0061,  0.0089, -0.0230, -0.0138, -0.0025,  0.0010,  0.0199,\n",
              "         0.0127, -0.0151,  0.0085,  0.0091,  0.0097,  0.0138,  0.0094, -0.0168,\n",
              "        -0.0014,  0.0041,  0.0236, -0.0110,  0.0030, -0.0096, -0.0116, -0.0202,\n",
              "         0.0102,  0.0224,  0.0229,  0.0224,  0.0205, -0.0046, -0.0101, -0.0245,\n",
              "         0.0216, -0.0172, -0.0052, -0.0199, -0.0055, -0.0221,  0.0141,  0.0012,\n",
              "         0.0080, -0.0183,  0.0204, -0.0103,  0.0067,  0.0204,  0.0157,  0.0098,\n",
              "        -0.0041, -0.0107, -0.0134,  0.0026, -0.0188,  0.0052, -0.0062, -0.0166,\n",
              "         0.0207,  0.0045, -0.0111,  0.0239,  0.0182,  0.0096, -0.0153,  0.0033,\n",
              "        -0.0008, -0.0124,  0.0157, -0.0017,  0.0005, -0.0048,  0.0026, -0.0038,\n",
              "         0.0120, -0.0235, -0.0203, -0.0183,  0.0211, -0.0013,  0.0034,  0.0022,\n",
              "        -0.0143,  0.0082,  0.0136,  0.0189,  0.0011, -0.0193,  0.0180,  0.0251,\n",
              "         0.0007,  0.0151,  0.0083,  0.0169, -0.0132,  0.0192, -0.0095, -0.0233,\n",
              "         0.0032, -0.0070,  0.0139,  0.0176,  0.0141, -0.0225,  0.0041,  0.0077,\n",
              "        -0.0093, -0.0034, -0.0109, -0.0206,  0.0008, -0.0252,  0.0151, -0.0247,\n",
              "         0.0137,  0.0133, -0.0016,  0.0155,  0.0004,  0.0021, -0.0215, -0.0016,\n",
              "        -0.0004, -0.0170, -0.0013,  0.0026, -0.0089,  0.0053, -0.0047, -0.0142,\n",
              "         0.0016,  0.0116,  0.0224,  0.0009,  0.0208, -0.0204, -0.0120,  0.0230,\n",
              "        -0.0165,  0.0062,  0.0120, -0.0001,  0.0039, -0.0255, -0.0227, -0.0183,\n",
              "         0.0223,  0.0246,  0.0238,  0.0156,  0.0089, -0.0171, -0.0197,  0.0080,\n",
              "        -0.0061,  0.0028, -0.0112,  0.0169, -0.0223, -0.0147,  0.0136, -0.0135,\n",
              "        -0.0196, -0.0187,  0.0151, -0.0088, -0.0067,  0.0208,  0.0107, -0.0247,\n",
              "         0.0027,  0.0055, -0.0024,  0.0244, -0.0034,  0.0224,  0.0090, -0.0073,\n",
              "         0.0239,  0.0162,  0.0227, -0.0111, -0.0025,  0.0172,  0.0035, -0.0232,\n",
              "         0.0195,  0.0212, -0.0227,  0.0246, -0.0050,  0.0070,  0.0186,  0.0085,\n",
              "         0.0169,  0.0256, -0.0210,  0.0206, -0.0014,  0.0099,  0.0059,  0.0223,\n",
              "         0.0079, -0.0057, -0.0145, -0.0013], grad_fn=<SliceBackward0>)"
            ]
          },
          "metadata": {},
          "execution_count": 20
        }
      ],
      "source": [
        "first_layer.weight[0][600:900]"
      ]
    },
    {
      "cell_type": "code",
      "execution_count": 21,
      "id": "d8347386",
      "metadata": {
        "scrolled": true,
        "colab": {
          "base_uri": "https://localhost:8080/"
        },
        "id": "d8347386",
        "outputId": "004d64e1-4ae0-494d-eb44-d0cdecefd061"
      },
      "outputs": [
        {
          "output_type": "execute_result",
          "data": {
            "text/plain": [
              "(tensor([-0.1372,  0.0381,  0.1499, -0.0631,  0.0531,  0.2336, -0.1442,  0.1122,\n",
              "          0.1594, -0.0897,  0.1489, -0.2794, -0.2234,  0.1020, -0.1064, -0.0065,\n",
              "          0.1844, -0.0068,  0.0190,  0.0983], grad_fn=<SliceBackward0>),\n",
              " tensor([0.0000, 0.0381, 0.1499, 0.0000, 0.0531, 0.2336, 0.0000, 0.1122, 0.1594,\n",
              "         0.0000, 0.1489, 0.0000, 0.0000, 0.1020, 0.0000, 0.0000, 0.1844, 0.0000,\n",
              "         0.0190, 0.0983], grad_fn=<SliceBackward0>))"
            ]
          },
          "metadata": {},
          "execution_count": 21
        }
      ],
      "source": [
        "hidden = first_layer(concat_tensor)\n",
        "hidden_after_activation = torch.relu(hidden)\n",
        "hidden[:20], hidden_after_activation[:20]"
      ]
    },
    {
      "cell_type": "code",
      "execution_count": 22,
      "id": "9794d994",
      "metadata": {
        "colab": {
          "base_uri": "https://localhost:8080/"
        },
        "id": "9794d994",
        "outputId": "a5e4a216-7e46-4da9-b777-10c76b1101f6"
      },
      "outputs": [
        {
          "output_type": "execute_result",
          "data": {
            "text/plain": [
              "torch.Size([128])"
            ]
          },
          "metadata": {},
          "execution_count": 22
        }
      ],
      "source": [
        "hidden.shape"
      ]
    },
    {
      "cell_type": "code",
      "execution_count": 23,
      "id": "ac60ded7",
      "metadata": {
        "id": "ac60ded7"
      },
      "outputs": [],
      "source": [
        "second_layer = nn.Linear(in_features=128, out_features=1, bias=True)\n"
      ]
    },
    {
      "cell_type": "code",
      "execution_count": 24,
      "id": "944dd4ea",
      "metadata": {
        "colab": {
          "base_uri": "https://localhost:8080/"
        },
        "id": "944dd4ea",
        "outputId": "e2ee1dee-ae89-4420-f496-4f5b8c25eddf"
      },
      "outputs": [
        {
          "output_type": "execute_result",
          "data": {
            "text/plain": [
              "(['PAD', 'PAD', 'the', 'european', 'commission'],\n",
              " tensor([0.5088], grad_fn=<SigmoidBackward0>))"
            ]
          },
          "metadata": {},
          "execution_count": 24
        }
      ],
      "source": [
        "second_output = second_layer(hidden_after_activation)\n",
        "final_prediction = torch.sigmoid(second_output)\n",
        "words_window, final_prediction"
      ]
    },
    {
      "cell_type": "code",
      "execution_count": 25,
      "id": "31b894da",
      "metadata": {
        "colab": {
          "base_uri": "https://localhost:8080/"
        },
        "id": "31b894da",
        "outputId": "7f3b3afd-9882-4d50-93ca-82097d93d630"
      },
      "outputs": [
        {
          "output_type": "execute_result",
          "data": {
            "text/plain": [
              "tensor([0.5000])"
            ]
          },
          "metadata": {},
          "execution_count": 25
        }
      ],
      "source": [
        "torch.sigmoid(torch.zeros(1))"
      ]
    },
    {
      "cell_type": "code",
      "execution_count": 26,
      "id": "d1717281",
      "metadata": {
        "colab": {
          "base_uri": "https://localhost:8080/"
        },
        "id": "d1717281",
        "outputId": "b04c6735-5eca-491b-8fe9-aa445b3c23ff"
      },
      "outputs": [
        {
          "output_type": "execute_result",
          "data": {
            "text/plain": [
              "['PAD', 'PAD', 'the', 'european', 'commission']"
            ]
          },
          "metadata": {},
          "execution_count": 26
        }
      ],
      "source": [
        "get_words_window(sentence, word_idx, window_size)\n"
      ]
    },
    {
      "cell_type": "code",
      "execution_count": 27,
      "id": "97b788b1",
      "metadata": {
        "colab": {
          "base_uri": "https://localhost:8080/"
        },
        "id": "97b788b1",
        "outputId": "d93ea33d-2510-4ce2-d403-3285c68b6b1b"
      },
      "outputs": [
        {
          "output_type": "execute_result",
          "data": {
            "text/plain": [
              "['The DT B-NP O',\n",
              " 'European NNP I-NP B-ORG',\n",
              " 'Commission NNP I-NP I-ORG',\n",
              " 'said VBD B-VP O',\n",
              " 'on IN B-PP O']"
            ]
          },
          "metadata": {},
          "execution_count": 27
        }
      ],
      "source": [
        "sentence[:5]"
      ]
    },
    {
      "cell_type": "code",
      "execution_count": 27,
      "id": "f4fffd28",
      "metadata": {
        "id": "f4fffd28"
      },
      "outputs": [],
      "source": [
        ""
      ]
    },
    {
      "cell_type": "markdown",
      "id": "d3f8b574",
      "metadata": {
        "id": "d3f8b574"
      },
      "source": [
        "## 3. Make a Neural Network Model"
      ]
    },
    {
      "cell_type": "code",
      "execution_count": 28,
      "id": "05ef02f4",
      "metadata": {
        "colab": {
          "base_uri": "https://localhost:8080/"
        },
        "id": "05ef02f4",
        "outputId": "4448a564-aec0-4206-ceb9-48b320224adb"
      },
      "outputs": [
        {
          "output_type": "stream",
          "name": "stdout",
          "text": [
            "<class '__main__.NERModel'>\n"
          ]
        },
        {
          "output_type": "execute_result",
          "data": {
            "text/plain": [
              "tensor([0.5001], grad_fn=<SigmoidBackward0>)"
            ]
          },
          "metadata": {},
          "execution_count": 28
        }
      ],
      "source": [
        "class NERModel(nn.Module):\n",
        "  def __init__(self):\n",
        "    super().__init__()\n",
        "    self.first_layer = nn.Linear(in_features=1500, out_features=128)\n",
        "    self.second_layer = nn.Linear(in_features=128, out_features=1)\n",
        "    \n",
        "  def forward(self, x):\n",
        "#     print(\"forward is called\")\n",
        "#     print(x)\n",
        "    hidden_representation = self.first_layer(x)\n",
        "    hidden_after_activation = torch.relu(hidden_representation)\n",
        "    scalar_value = self.second_layer(hidden_after_activation)\n",
        "    probability = torch.sigmoid(scalar_value)\n",
        "    return probability\n",
        "  \n",
        "\n",
        "model = NERModel()\n",
        "print(type(model))\n",
        "model(concat_tensor)"
      ]
    },
    {
      "cell_type": "markdown",
      "id": "c85a3ba8",
      "metadata": {
        "id": "c85a3ba8"
      },
      "source": [
        "## 4. Implement a train loop"
      ]
    },
    {
      "cell_type": "code",
      "execution_count": 29,
      "id": "74b595af",
      "metadata": {
        "colab": {
          "base_uri": "https://localhost:8080/",
          "height": 35
        },
        "id": "74b595af",
        "outputId": "14df4435-5969-42e7-872f-6009466671b4"
      },
      "outputs": [
        {
          "output_type": "execute_result",
          "data": {
            "text/plain": [
              "'\\nFor Epoch in NumEpochs:\\n  For DataSample in TrainingSet:\\n    TrainWithDataSample(Model, DataSample)\\n\\n'"
            ],
            "application/vnd.google.colaboratory.intrinsic+json": {
              "type": "string"
            }
          },
          "metadata": {},
          "execution_count": 29
        }
      ],
      "source": [
        "'''\n",
        "For Epoch in NumEpochs:\n",
        "  For DataSample in TrainingSet:\n",
        "    TrainWithDataSample(Model, DataSample)\n",
        "\n",
        "'''"
      ]
    },
    {
      "cell_type": "code",
      "execution_count": 30,
      "id": "6750b643",
      "metadata": {
        "colab": {
          "base_uri": "https://localhost:8080/"
        },
        "id": "6750b643",
        "outputId": "a972c211-e773-48e9-9abf-00726d0dd9be"
      },
      "outputs": [
        {
          "output_type": "execute_result",
          "data": {
            "text/plain": [
              "['The DT B-NP O',\n",
              " 'European NNP I-NP B-ORG',\n",
              " 'Commission NNP I-NP I-ORG',\n",
              " 'said VBD B-VP O',\n",
              " 'on IN B-PP O',\n",
              " 'Thursday NNP B-NP O',\n",
              " 'it PRP B-NP O',\n",
              " 'disagreed VBD B-VP O',\n",
              " 'with IN B-PP O',\n",
              " 'German JJ B-NP B-MISC',\n",
              " 'advice NN I-NP O',\n",
              " 'to TO B-PP O',\n",
              " 'consumers NNS B-NP O',\n",
              " 'to TO B-VP O',\n",
              " 'shun VB I-VP O',\n",
              " 'British JJ B-NP B-MISC',\n",
              " 'lamb NN I-NP O',\n",
              " 'until IN B-SBAR O',\n",
              " 'scientists NNS B-NP O',\n",
              " 'determine VBP B-VP O',\n",
              " 'whether IN B-SBAR O',\n",
              " 'mad JJ B-NP O',\n",
              " 'cow NN I-NP O',\n",
              " 'disease NN I-NP O',\n",
              " 'can MD B-VP O',\n",
              " 'be VB I-VP O',\n",
              " 'transmitted VBN I-VP O',\n",
              " 'to TO B-PP O',\n",
              " 'sheep NN B-NP O',\n",
              " '. . O O']"
            ]
          },
          "metadata": {},
          "execution_count": 30
        }
      ],
      "source": [
        "dataset_in_sentence[4]"
      ]
    },
    {
      "cell_type": "code",
      "execution_count": 31,
      "id": "936e1c90",
      "metadata": {
        "id": "936e1c90"
      },
      "outputs": [],
      "source": [
        "loss_fn = torch.nn.BCELoss() #this is the predefined binary cross entropy function"
      ]
    },
    {
      "cell_type": "code",
      "execution_count": 32,
      "id": "d163bc90",
      "metadata": {
        "colab": {
          "base_uri": "https://localhost:8080/"
        },
        "id": "d163bc90",
        "outputId": "2dcfca01-bd30-40d1-c3ab-ee224c1ccfe3"
      },
      "outputs": [
        {
          "output_type": "execute_result",
          "data": {
            "text/plain": [
              "0.6931471805599453"
            ]
          },
          "metadata": {},
          "execution_count": 32
        }
      ],
      "source": [
        "from math import log\n",
        "-log(0.5) #this is the average of the binary cross entropy"
      ]
    },
    {
      "cell_type": "code",
      "execution_count": 33,
      "id": "6dd30951",
      "metadata": {
        "scrolled": true,
        "colab": {
          "base_uri": "https://localhost:8080/"
        },
        "id": "6dd30951",
        "outputId": "0e2a6349-fd4e-4c6b-e85e-ce9527afd8a2"
      },
      "outputs": [
        {
          "output_type": "stream",
          "name": "stdout",
          "text": [
            "0.6671698093414307\n",
            "0.6444815993309021\n",
            "0.6809184551239014\n",
            "0.8242167830467224\n",
            "0.6244630217552185\n",
            "0.8300137519836426\n",
            "0.5904390811920166\n",
            "0.603347897529602\n",
            "0.5509924292564392\n",
            "0.5199240446090698\n",
            "0.49354010820388794\n",
            "0.5153568387031555\n",
            "0.5849422812461853\n",
            "0.4189315140247345\n",
            "0.29067838191986084\n",
            "0.3925616145133972\n",
            "0.33891281485557556\n",
            "0.20003171265125275\n",
            "1.0147393941879272\n",
            "0.7319843173027039\n",
            "0.2602522075176239\n",
            "0.6447174549102783\n",
            "0.49614378809928894\n",
            "0.8076680302619934\n",
            "0.26280415058135986\n",
            "0.2761423885822296\n",
            "0.24870748817920685\n",
            "0.3749808073043823\n",
            "0.1398693174123764\n",
            "0.1900891661643982\n"
          ]
        }
      ],
      "source": [
        "model = NERModel()\n",
        "optimizer = torch.optim.Adam(model.parameters(), lr=0.001)\n",
        "\n",
        "'''\n",
        "on-the-fly method to get a data sample\n",
        "'''\n",
        "for sentence in dataset_in_sentence[:30]:\n",
        "  for wrd_idx in range(len(sentence)):\n",
        "    words_window = get_words_window(sentence, wrd_idx, 2)\n",
        "    flattened_vector = make_flattened_vector_for_words_window(words_window)\n",
        "    prediction = model(flattened_vector)\n",
        "    \n",
        "    label = sentence[wrd_idx].split(' ')[-1] in ('B-LOC', 'I-LOC') #check if B-loc and I-loc is in the sentence, and if the there is the word it'll return True or else False.\n",
        "    #We want to make the False prediction close to 0 and True prediction close to 1 \n",
        "    label_tensor = torch.Tensor([label]).float()\n",
        "    loss = loss_fn(prediction, label_tensor) # Calculate how wrong is the estimation, which is loss. We use binary cross entropy.This is homework so we use predefined loss_fn()\n",
        "    loss.backward() # Backpropagate the loss to get the gradient\n",
        "    optimizer.step() # Update the parameters\n",
        "    optimizer.zero_grad() # Reset the gradient of the parameters\n",
        "    print(loss.item())\n",
        "#     print(prediction.item(), label_tensor, loss.item())\n",
        "#     print(words_window, prediction, label)\n",
        "    break"
      ]
    },
    {
      "cell_type": "code",
      "execution_count": 34,
      "id": "f55af452",
      "metadata": {
        "colab": {
          "base_uri": "https://localhost:8080/",
          "height": 35
        },
        "id": "f55af452",
        "outputId": "e786226a-3c11-45e2-a603-34b99613bcb6"
      },
      "outputs": [
        {
          "output_type": "execute_result",
          "data": {
            "text/plain": [
              "'\\nPrepare training data before we start the training stage\\n'"
            ],
            "application/vnd.google.colaboratory.intrinsic+json": {
              "type": "string"
            }
          },
          "metadata": {},
          "execution_count": 34
        }
      ],
      "source": [
        "'''\n",
        "Prepare training data before we start the training stage\n",
        "'''\n",
        "\n"
      ]
    },
    {
      "cell_type": "code",
      "execution_count": 35,
      "id": "1a9d79d3",
      "metadata": {
        "id": "1a9d79d3"
      },
      "outputs": [],
      "source": [
        "def prepare_dataset(dataset_in_sentence):\n",
        "  total_data_sample = []\n",
        "  for sentence in dataset_in_sentence[:100]:\n",
        "    for wrd_idx in range(len(sentence)):\n",
        "      words_window = get_words_window(sentence, wrd_idx, 2)\n",
        "      flattened_vector = make_flattened_vector_for_words_window(words_window)    \n",
        "      label = sentence[wrd_idx].split(' ')[-1] in ('B-LOC', 'I-LOC')\n",
        "      data_sample = (flattened_vector, label)\n",
        "      total_data_sample.append(data_sample)\n",
        "  return total_data_sample\n",
        "\n",
        "total_data_sample = prepare_dataset(dataset_in_sentence)"
      ]
    },
    {
      "cell_type": "code",
      "execution_count": 36,
      "id": "aafea88d",
      "metadata": {
        "scrolled": true,
        "colab": {
          "base_uri": "https://localhost:8080/"
        },
        "id": "aafea88d",
        "outputId": "48896e90-6237-4e88-90c8-fca0250aec64"
      },
      "outputs": [
        {
          "output_type": "execute_result",
          "data": {
            "text/plain": [
              "(1529,\n",
              " (tensor([-0.4737, -0.1800, -0.4015,  ...,  1.0656, -0.0622,  0.4095]), False))"
            ]
          },
          "metadata": {},
          "execution_count": 36
        }
      ],
      "source": [
        "len(total_data_sample), total_data_sample[400]"
      ]
    },
    {
      "cell_type": "code",
      "execution_count": 37,
      "id": "0a2530be",
      "metadata": {
        "id": "0a2530be"
      },
      "outputs": [],
      "source": [
        "class WindowWordDataset:\n",
        "  def __init__(self, txt_path):\n",
        "    \n",
        "    with open(txt_path) as f:\n",
        "      string = ''.join(f.readlines())\n",
        "    dataset = string.split('\\n')\n",
        "    self.data_in_sentence = [list(group) for k, group in groupby(dataset, lambda x: x == \"\") if not k]\n",
        "    self.data_samples = self.prepare_entire_data_sample()\n",
        "    \n",
        "  def prepare_entire_data_sample(self):\n",
        "    total_data_sample = []\n",
        "    for sentence in self.data_in_sentence:\n",
        "      for wrd_idx in range(len(sentence)):\n",
        "        words_window = get_words_window(sentence, wrd_idx, 2)\n",
        "        flattened_vector = make_flattened_vector_for_words_window(words_window)    \n",
        "        label = sentence[wrd_idx].split(' ')[-1] in ('B-LOC', 'I-LOC')\n",
        "        data_sample = (flattened_vector, label, words_window)\n",
        "        total_data_sample.append(data_sample)\n",
        "    return total_data_sample\n",
        "  \n",
        "  def __len__(self):\n",
        "    return len(self.data_samples)\n",
        "  \n",
        "  def __getitem__(self, idx):\n",
        "    return self.data_samples[idx][:2]\n",
        "  \n",
        "dataset = WindowWordDataset('train.txt')"
      ]
    },
    {
      "cell_type": "code",
      "execution_count": 38,
      "id": "08199b6f",
      "metadata": {
        "colab": {
          "base_uri": "https://localhost:8080/"
        },
        "id": "08199b6f",
        "outputId": "b38caa1d-64fe-435b-e6d7-d3de125d1064"
      },
      "outputs": [
        {
          "output_type": "execute_result",
          "data": {
            "text/plain": [
              "204567"
            ]
          },
          "metadata": {},
          "execution_count": 38
        }
      ],
      "source": [
        "len(dataset)"
      ]
    },
    {
      "cell_type": "code",
      "execution_count": 39,
      "id": "bdcb48e5",
      "metadata": {
        "scrolled": false,
        "colab": {
          "base_uri": "https://localhost:8080/"
        },
        "id": "bdcb48e5",
        "outputId": "71119705-bb16-4dbe-9587-7fd6a1d746f8"
      },
      "outputs": [
        {
          "output_type": "execute_result",
          "data": {
            "text/plain": [
              "(tensor([ 1.0857,  0.1658, -0.7905,  ...,  0.0020,  0.7095,  0.2967]), False)"
            ]
          },
          "metadata": {},
          "execution_count": 39
        }
      ],
      "source": [
        "dataset[245]"
      ]
    },
    {
      "cell_type": "code",
      "execution_count": 40,
      "id": "960cf603",
      "metadata": {
        "scrolled": true,
        "colab": {
          "base_uri": "https://localhost:8080/"
        },
        "id": "960cf603",
        "outputId": "ee12bc5e-7e20-4694-bc8e-0f911b93b859"
      },
      "outputs": [
        {
          "output_type": "execute_result",
          "data": {
            "text/plain": [
              "(tensor([[ 0.2685,  0.2927, -0.5862,  ..., -0.5182,  0.7469, -0.2239],\n",
              "         [ 0.0000,  0.0000,  0.0000,  ..., -0.7256, -0.1930,  0.2275],\n",
              "         [ 0.5531, -0.3117, -0.5440,  ..., -0.3422, -0.0224,  0.1368],\n",
              "         ...,\n",
              "         [ 0.0381, -0.0272, -0.0636,  ..., -0.2641, -0.6152,  0.1971],\n",
              "         [-0.2576, -0.0571, -0.6719,  ...,  0.0000,  0.0000,  0.0000],\n",
              "         [-0.3266,  0.4179,  0.0121,  ...,  0.2830,  0.0779,  0.0713]]),\n",
              " tensor([0., 0., 0., 0., 0., 0., 0., 0., 0., 0., 0., 0., 0., 1., 0., 0.]))"
            ]
          },
          "metadata": {},
          "execution_count": 40
        }
      ],
      "source": [
        "from torch.utils.data import DataLoader\n",
        "\n",
        "def custom_collate_fn(raw_batch):\n",
        "  '''\n",
        "  collate raw batch (a list of tuple data sample)\n",
        "  '''\n",
        "  \n",
        "  input_vectors = []\n",
        "  labels = []\n",
        "  for data_sample in raw_batch:\n",
        "    input_vector = data_sample[0]\n",
        "    label = data_sample[1]\n",
        "    \n",
        "    input_vectors.append(input_vector)\n",
        "    labels.append(label)\n",
        "#   print(input_vectors)\n",
        "#   print(labels)\n",
        "  \n",
        "  input_tensor = torch.stack(input_vectors) # stack a list of tensor into a new dimension\n",
        "#   concat_tensor = torch.cat(input_vectors) # this concatenate to an existing dimension\n",
        "  label_tensor = torch.Tensor(labels)\n",
        "#   print(input_tensor.shape, concat_tensor.shape)\n",
        "  return input_tensor, label_tensor \n",
        "  \n",
        "\n",
        "train_loader = DataLoader(dataset, batch_size=16, shuffle=True, collate_fn=custom_collate_fn, drop_last=True)\n",
        "batch = next(iter(train_loader))\n",
        "batch"
      ]
    },
    {
      "cell_type": "code",
      "execution_count": 41,
      "id": "14a9d844",
      "metadata": {
        "colab": {
          "base_uri": "https://localhost:8080/"
        },
        "id": "14a9d844",
        "outputId": "f7fa5ab5-af7b-42a5-ecf8-96bd2bdc4c32"
      },
      "outputs": [
        {
          "output_type": "execute_result",
          "data": {
            "text/plain": [
              "(204560, 204567)"
            ]
          },
          "metadata": {},
          "execution_count": 41
        }
      ],
      "source": [
        "len(train_loader) * train_loader.batch_size, len(train_loader.dataset)"
      ]
    },
    {
      "cell_type": "code",
      "execution_count": 42,
      "id": "71fc676d",
      "metadata": {
        "colab": {
          "base_uri": "https://localhost:8080/"
        },
        "id": "71fc676d",
        "outputId": "578eaeaa-c423-42c4-8166-fced35f4e1b1"
      },
      "outputs": [
        {
          "output_type": "execute_result",
          "data": {
            "text/plain": [
              "204560"
            ]
          },
          "metadata": {},
          "execution_count": 42
        }
      ],
      "source": [
        "204567//16 * 16"
      ]
    },
    {
      "cell_type": "code",
      "execution_count": 43,
      "id": "9fda4c01",
      "metadata": {
        "colab": {
          "base_uri": "https://localhost:8080/",
          "height": 35
        },
        "id": "9fda4c01",
        "outputId": "ff83716b-dab2-4616-b570-0ce74c533714"
      },
      "outputs": [
        {
          "output_type": "execute_result",
          "data": {
            "text/plain": [
              "'\\nVanilla Gradient Descent\\n\\nweights -= weights.grad * lr\\n\\n'"
            ],
            "application/vnd.google.colaboratory.intrinsic+json": {
              "type": "string"
            }
          },
          "metadata": {},
          "execution_count": 43
        }
      ],
      "source": [
        "'''\n",
        "Vanilla Gradient Descent\n",
        "\n",
        "weights -= weights.grad * lr\n",
        "\n",
        "'''"
      ]
    },
    {
      "cell_type": "code",
      "execution_count": 44,
      "id": "2ab3cbb6",
      "metadata": {
        "id": "2ab3cbb6"
      },
      "outputs": [],
      "source": [
        "from tqdm import tqdm\n",
        "import itertools \n",
        "model = NERModel()\n",
        "optimizer = torch.optim.Adam(model.parameters(), lr=0.001)\n",
        "train_loader = DataLoader(dataset, batch_size=64, shuffle=True, collate_fn=custom_collate_fn, drop_last=True)\n",
        "\n",
        "loss_record = []\n",
        "# num_epochs = 5\n",
        "num_iteration = 0\n",
        "target_num_iteration = 10000\n",
        "\n",
        "# for epoch in tqdm(range(num_epochs)):\n",
        "for batch in itertools.cycle(train_loader):\n",
        "  input_tensor, label = batch # input_tensor = batch[0] // label = batch[1]\n",
        "  prediction = model(input_tensor)\n",
        "  loss = loss_fn(prediction, label.unsqueeze(1)) # Calculate loss\n",
        "  loss.backward() # Backpropagate the loss to get the gradient\n",
        "  optimizer.step() # Update the parameters\n",
        "  optimizer.zero_grad() # Reset the gradient of the parameters\n",
        "  loss_record.append(loss.item())\n",
        "  num_iteration += 1 \n",
        "  if num_iteration > target_num_iteration:\n",
        "    break"
      ]
    },
    {
      "cell_type": "code",
      "execution_count": 45,
      "id": "62448a0a",
      "metadata": {
        "scrolled": true,
        "colab": {
          "base_uri": "https://localhost:8080/",
          "height": 283
        },
        "id": "62448a0a",
        "outputId": "2c72c675-7447-40a0-934e-a16a1a812bb5"
      },
      "outputs": [
        {
          "output_type": "execute_result",
          "data": {
            "text/plain": [
              "[<matplotlib.lines.Line2D at 0x7f20f7c4eb90>]"
            ]
          },
          "metadata": {},
          "execution_count": 45
        },
        {
          "output_type": "display_data",
          "data": {
            "text/plain": [
              "<Figure size 432x288 with 1 Axes>"
            ],
            "image/png": "[encoded data removed]"
          },
          "metadata": {
            "needs_background": "light"
          }
        }
      ],
      "source": [
        "import matplotlib.pyplot as plt\n",
        "plt.plot(loss_record)"
      ]
    },
    {
      "cell_type": "code",
      "execution_count": 45,
      "id": "5197877b",
      "metadata": {
        "id": "5197877b"
      },
      "outputs": [],
      "source": [
        ""
      ]
    },
    {
      "cell_type": "code",
      "execution_count": 46,
      "id": "2747e260",
      "metadata": {
        "colab": {
          "base_uri": "https://localhost:8080/"
        },
        "id": "2747e260",
        "outputId": "481294d7-c51f-4499-8aca-13ce63305aa5"
      },
      "outputs": [
        {
          "output_type": "stream",
          "name": "stdout",
          "text": [
            "(tensor([[ 0.0466,  0.2132, -0.0074,  ..., -0.2008,  0.6151, -0.0029],\n",
            "        [-0.7397, -0.6655,  0.5649,  ..., -0.4894,  0.1506, -0.7047],\n",
            "        [-0.0013,  0.3651, -0.0774,  ..., -0.2641, -0.6152,  0.1971],\n",
            "        ...,\n",
            "        [ 0.1775, -0.0999, -0.3081,  ..., -0.3172,  0.2889, -0.1240],\n",
            "        [ 0.0000,  0.0000,  0.0000,  ...,  0.0000,  0.0000,  0.0000],\n",
            "        [-0.5716, -0.0968, -0.0939,  ...,  0.0494, -0.2938,  0.2213]]), tensor([0., 0., 0., 0., 0., 0., 0., 0., 0., 0., 0., 0., 0., 0., 0., 1., 0., 0.,\n",
            "        0., 0., 0., 0., 0., 0., 0., 0., 1., 0., 0., 0., 0., 0., 0., 0., 0., 0.,\n",
            "        0., 0., 0., 0., 1., 0., 0., 0., 0., 0., 0., 0., 0., 0., 0., 0., 0., 0.,\n",
            "        0., 0., 0., 0., 0., 0., 0., 0., 0., 0.]))\n"
          ]
        }
      ],
      "source": [
        "for batch in train_loader:\n",
        "  print(batch)\n",
        "  break\n",
        "\n",
        "# batch = next(iter(train_loader))"
      ]
    },
    {
      "cell_type": "code",
      "execution_count": 47,
      "id": "13a8aa91",
      "metadata": {
        "colab": {
          "base_uri": "https://localhost:8080/"
        },
        "id": "13a8aa91",
        "outputId": "6cbf6ade-617a-40c3-cc2e-0f1eb3d9a874"
      },
      "outputs": [
        {
          "output_type": "execute_result",
          "data": {
            "text/plain": [
              "(tensor([[ 0.0466,  0.2132, -0.0074,  ..., -0.2008,  0.6151, -0.0029],\n",
              "         [-0.7397, -0.6655,  0.5649,  ..., -0.4894,  0.1506, -0.7047],\n",
              "         [-0.0013,  0.3651, -0.0774,  ..., -0.2641, -0.6152,  0.1971],\n",
              "         ...,\n",
              "         [ 0.1775, -0.0999, -0.3081,  ..., -0.3172,  0.2889, -0.1240],\n",
              "         [ 0.0000,  0.0000,  0.0000,  ...,  0.0000,  0.0000,  0.0000],\n",
              "         [-0.5716, -0.0968, -0.0939,  ...,  0.0494, -0.2938,  0.2213]]),\n",
              " tensor([0., 0., 0., 0., 0., 0., 0., 0., 0., 0., 0., 0., 0., 0., 0., 1., 0., 0.,\n",
              "         0., 0., 0., 0., 0., 0., 0., 0., 1., 0., 0., 0., 0., 0., 0., 0., 0., 0.,\n",
              "         0., 0., 0., 0., 1., 0., 0., 0., 0., 0., 0., 0., 0., 0., 0., 0., 0., 0.,\n",
              "         0., 0., 0., 0., 0., 0., 0., 0., 0., 0.]))"
            ]
          },
          "metadata": {},
          "execution_count": 47
        }
      ],
      "source": [
        "batch"
      ]
    },
    {
      "cell_type": "markdown",
      "id": "6dce0efd",
      "metadata": {
        "id": "6dce0efd"
      },
      "source": [
        "## 5. Make Inference"
      ]
    },
    {
      "cell_type": "code",
      "execution_count": 47,
      "id": "3fcf2a6c",
      "metadata": {
        "id": "3fcf2a6c"
      },
      "outputs": [],
      "source": [
        ""
      ]
    }
  ],
  "metadata": {
    "kernelspec": {
      "display_name": "Python 3 (ipykernel)",
      "language": "python",
      "name": "python3"
    },
    "language_info": {
      "codemirror_mode": {
        "name": "ipython",
        "version": 3
      },
      "file_extension": ".py",
      "mimetype": "text/x-python",
      "name": "python",
      "nbconvert_exporter": "python",
      "pygments_lexer": "ipython3",
      "version": "3.8.10"
    },
    "colab": {
      "name": "2. Named Entity Recognition Livecoding.ipynb",
      "provenance": []
    }
  },
  "nbformat": 4,
  "nbformat_minor": 5
}