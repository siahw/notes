{
  "cells": [
    {
      "cell_type": "markdown",
      "metadata": {
        "id": "view-in-github",
        "colab_type": "text"
      },
      "source": [
        "<a href=\"https://colab.research.google.com/github/siahw/notes/blob/main/%E2%80%9C1_Word2Vec_training_practice_ipynb%E2%80%9D%E7%9A%84%E5%89%AF%E6%9C%AC.ipynb\" target=\"_parent\"><img src=\"https://colab.research.google.com/assets/colab-badge.svg\" alt=\"Open In Colab\"/></a>"
      ]
    },
    {
      "cell_type": "code",
      "execution_count": null,
      "id": "12b8d45b",
      "metadata": {
        "id": "12b8d45b"
      },
      "outputs": [],
      "source": [
        "import torch\n",
        "import torch.nn as nn\n",
        "\n",
        "import string"
      ]
    },
    {
      "cell_type": "code",
      "execution_count": null,
      "id": "ebd23b43",
      "metadata": {
        "scrolled": true,
        "id": "ebd23b43",
        "outputId": "380b8d70-9e16-4114-a863-c7eb81cfd6e5"
      },
      "outputs": [
        {
          "name": "stdout",
          "output_type": "stream",
          "text": [
            "--2022-03-21 10:56:47--  https://raw.githubusercontent.com/amephraim/nlp/master/texts/J.%20K.%20Rowling%20-%20Harry%20Potter%201%20-%20Sorcerer's%20Stone.txt\n",
            "Resolving raw.githubusercontent.com (raw.githubusercontent.com)... 185.199.109.133, 185.199.108.133, 185.199.110.133, ...\n",
            "Connecting to raw.githubusercontent.com (raw.githubusercontent.com)|185.199.109.133|:443... connected.\n",
            "HTTP request sent, awaiting response... 200 OK\n",
            "Length: 439742 (429K) [text/plain]\n",
            "Saving to: ‘J. K. Rowling - Harry Potter 1 - Sorcerer's Stone.txt.1’\n",
            "\n",
            "J. K. Rowling - Har 100%[===================>] 429.44K  2.01MB/s    in 0.2s    \n",
            "\n",
            "2022-03-21 10:56:47 (2.01 MB/s) - ‘J. K. Rowling - Harry Potter 1 - Sorcerer's Stone.txt.1’ saved [439742/439742]\n",
            "\n"
          ]
        }
      ],
      "source": [
        "!wget \"https://raw.githubusercontent.com/amephraim/nlp/master/texts/J.%20K.%20Rowling%20-%20Harry%20Potter%201%20-%20Sorcerer's%20Stone.txt\""
      ]
    },
    {
      "cell_type": "code",
      "execution_count": null,
      "id": "8b55ee99",
      "metadata": {
        "id": "8b55ee99"
      },
      "outputs": [],
      "source": [
        "with open(\"J. K. Rowling - Harry Potter 1 - Sorcerer's Stone.txt\", 'r') as f:\n",
        "  strings = f.readlines()\n",
        "sample_text = \"\".join(strings).replace('\\n', ' ').replace('Mr.', 'mr').replace('Mrs.', 'mrs').split('. ')\n",
        "# short_text = sample_text[:200]\n",
        "# short_text"
      ]
    },
    {
      "cell_type": "code",
      "execution_count": null,
      "id": "d7adbd4c",
      "metadata": {
        "scrolled": false,
        "id": "d7adbd4c"
      },
      "outputs": [],
      "source": [
        "sample_text = '''\n",
        "\n",
        "'''\n",
        "sample_text = sample_text.replace('\\n', '. ').split('. ')"
      ]
    },
    {
      "cell_type": "code",
      "execution_count": null,
      "id": "872300e6",
      "metadata": {
        "id": "872300e6"
      },
      "outputs": [],
      "source": [
        "import string\n",
        "def remove_punctuation(x):\n",
        "  return x.translate(''.maketrans('', '', string.punctuation))"
      ]
    },
    {
      "cell_type": "code",
      "execution_count": null,
      "id": "f6d40916",
      "metadata": {
        "id": "f6d40916",
        "outputId": "3b816237-4a36-4a6b-e178-f0b166f8eeff"
      },
      "outputs": [
        {
          "data": {
            "text/plain": [
              "[['harry',\n",
              "  'potter',\n",
              "  'and',\n",
              "  'the',\n",
              "  'sorcerers',\n",
              "  'stone',\n",
              "  'chapter',\n",
              "  'one',\n",
              "  'the',\n",
              "  'boy',\n",
              "  'who',\n",
              "  'lived',\n",
              "  'mr',\n",
              "  'and',\n",
              "  'mrs',\n",
              "  'dursley',\n",
              "  'of',\n",
              "  'number',\n",
              "  'four',\n",
              "  'privet',\n",
              "  'drive',\n",
              "  'were',\n",
              "  'proud',\n",
              "  'to',\n",
              "  'say',\n",
              "  'that',\n",
              "  'they',\n",
              "  'were',\n",
              "  'perfectly',\n",
              "  'normal',\n",
              "  'thank',\n",
              "  'you',\n",
              "  'very',\n",
              "  'much'],\n",
              " ['they',\n",
              "  'were',\n",
              "  'the',\n",
              "  'last',\n",
              "  'people',\n",
              "  'youd',\n",
              "  'expect',\n",
              "  'to',\n",
              "  'be',\n",
              "  'involved',\n",
              "  'in',\n",
              "  'anything',\n",
              "  'strange',\n",
              "  'or',\n",
              "  'mysterious',\n",
              "  'because',\n",
              "  'they',\n",
              "  'just',\n",
              "  'didnt',\n",
              "  'hold',\n",
              "  'with',\n",
              "  'such',\n",
              "  'nonsense']]"
            ]
          },
          "execution_count": 55,
          "metadata": {},
          "output_type": "execute_result"
        }
      ],
      "source": [
        "def make_tokenized_corpus(corpus):\n",
        "  out= [ [y.lower() for y in remove_punctuation(sentence).split(' ') if y] for sentence in corpus]\n",
        "  return [x for x in out if x!=[]]\n",
        "corpus = make_tokenized_corpus(sample_text)\n",
        "corpus[:2]"
      ]
    },
    {
      "cell_type": "code",
      "execution_count": null,
      "id": "97480d18",
      "metadata": {
        "id": "97480d18",
        "outputId": "12c01e8f-313c-4af3-efbc-16f847150ac8"
      },
      "outputs": [
        {
          "data": {
            "text/plain": [
              "['they',\n",
              " 'were',\n",
              " 'the',\n",
              " 'last',\n",
              " 'people',\n",
              " 'youd',\n",
              " 'expect',\n",
              " 'to',\n",
              " 'be',\n",
              " 'involved',\n",
              " 'in',\n",
              " 'anything',\n",
              " 'strange',\n",
              " 'or',\n",
              " 'mysterious',\n",
              " 'because',\n",
              " 'they',\n",
              " 'just',\n",
              " 'didnt',\n",
              " 'hold',\n",
              " 'with',\n",
              " 'such',\n",
              " 'nonsense']"
            ]
          },
          "execution_count": 57,
          "metadata": {},
          "output_type": "execute_result"
        }
      ],
      "source": [
        "corpus[1] #2nd sentence of the corpus"
      ]
    },
    {
      "cell_type": "code",
      "execution_count": null,
      "id": "3f6a08e1",
      "metadata": {
        "id": "3f6a08e1"
      },
      "outputs": [],
      "source": [
        "def get_entire_words(corpus):\n",
        "  return sorted(list(set([y for x in corpus for y in x])))\n",
        "\n",
        "def word_to_idx(unique_word_list):\n",
        "  return {x:i for i, x in enumerate(unique_word_list)}\n",
        "\n",
        "entire_words = get_entire_words(corpus)\n",
        "word_to_idx_dict = word_to_idx(entire_words)"
      ]
    },
    {
      "cell_type": "code",
      "execution_count": null,
      "id": "d37905d5",
      "metadata": {
        "id": "d37905d5"
      },
      "outputs": [],
      "source": [
        "def make_word_pair(corpus, window_size=3):\n",
        "  pair_list = []\n",
        "  for sentence in corpus:\n",
        "    for i, word in enumerate(sentence):\n",
        "      for j in range(max(i-window_size, 0), min(i+window_size+1, len(sentence))):\n",
        "        if j==i:\n",
        "          continue\n",
        "        context_word = sentence[j]\n",
        "        pair_list.append((word, context_word))\n",
        "  return pair_list\n",
        "pair_list = make_word_pair(corpus)"
      ]
    },
    {
      "cell_type": "code",
      "execution_count": null,
      "id": "c7adb08c",
      "metadata": {
        "id": "c7adb08c"
      },
      "outputs": [],
      "source": [
        "def make_word_pair_for_cbow(corpus, window_size=3):\n",
        "  pair_list = []\n",
        "  for sentence in corpus:\n",
        "    for i, word in enumerate(sentence):\n",
        "      context_words_for_wrd = []\n",
        "      for j in range(max(i-window_size, 0), min(i+window_size+1, len(sentence))):\n",
        "        if j==i:\n",
        "          continue\n",
        "        context_word = sentence[j]\n",
        "        context_words_for_wrd.append(context_word)\n",
        "      pair_list.append((word, context_words_for_wrd))\n",
        "  return pair_list\n",
        "pair_list = make_word_pair_for_cbow(corpus)"
      ]
    },
    {
      "cell_type": "code",
      "execution_count": null,
      "id": "e7defa46",
      "metadata": {
        "id": "e7defa46",
        "outputId": "540d5f5c-6ced-4f0d-a7a4-f6113d92dd2c"
      },
      "outputs": [
        {
          "data": {
            "text/plain": [
              "[('harry', ['potter', 'and', 'the']),\n",
              " ('potter', ['harry', 'and', 'the', 'sorcerers']),\n",
              " ('and', ['harry', 'potter', 'the', 'sorcerers', 'stone']),\n",
              " ('the', ['harry', 'potter', 'and', 'sorcerers', 'stone', 'chapter']),\n",
              " ('sorcerers', ['potter', 'and', 'the', 'stone', 'chapter', 'one']),\n",
              " ('stone', ['and', 'the', 'sorcerers', 'chapter', 'one', 'the']),\n",
              " ('chapter', ['the', 'sorcerers', 'stone', 'one', 'the', 'boy']),\n",
              " ('one', ['sorcerers', 'stone', 'chapter', 'the', 'boy', 'who']),\n",
              " ('the', ['stone', 'chapter', 'one', 'boy', 'who', 'lived']),\n",
              " ('boy', ['chapter', 'one', 'the', 'who', 'lived', 'mr']),\n",
              " ('who', ['one', 'the', 'boy', 'lived', 'mr', 'and']),\n",
              " ('lived', ['the', 'boy', 'who', 'mr', 'and', 'mrs']),\n",
              " ('mr', ['boy', 'who', 'lived', 'and', 'mrs', 'dursley']),\n",
              " ('and', ['who', 'lived', 'mr', 'mrs', 'dursley', 'of']),\n",
              " ('mrs', ['lived', 'mr', 'and', 'dursley', 'of', 'number']),\n",
              " ('dursley', ['mr', 'and', 'mrs', 'of', 'number', 'four']),\n",
              " ('of', ['and', 'mrs', 'dursley', 'number', 'four', 'privet']),\n",
              " ('number', ['mrs', 'dursley', 'of', 'four', 'privet', 'drive']),\n",
              " ('four', ['dursley', 'of', 'number', 'privet', 'drive', 'were']),\n",
              " ('privet', ['of', 'number', 'four', 'drive', 'were', 'proud'])]"
            ]
          },
          "execution_count": 92,
          "metadata": {},
          "output_type": "execute_result"
        }
      ],
      "source": [
        "pair_list[:20]"
      ]
    },
    {
      "cell_type": "code",
      "execution_count": null,
      "id": "0662ad39",
      "metadata": {
        "id": "0662ad39",
        "outputId": "854e3fdd-5235-48f6-c5d5-730977948e8a"
      },
      "outputs": [
        {
          "data": {
            "text/plain": [
              "[('harry', 'potter'),\n",
              " ('harry', 'and'),\n",
              " ('harry', 'the'),\n",
              " ('potter', 'harry'),\n",
              " ('potter', 'and'),\n",
              " ('potter', 'the'),\n",
              " ('potter', 'sorcerers'),\n",
              " ('and', 'harry'),\n",
              " ('and', 'potter'),\n",
              " ('and', 'the'),\n",
              " ('and', 'sorcerers'),\n",
              " ('and', 'stone'),\n",
              " ('the', 'harry'),\n",
              " ('the', 'potter'),\n",
              " ('the', 'and'),\n",
              " ('the', 'sorcerers'),\n",
              " ('the', 'stone'),\n",
              " ('the', 'chapter'),\n",
              " ('sorcerers', 'potter'),\n",
              " ('sorcerers', 'and')]"
            ]
          },
          "execution_count": 60,
          "metadata": {},
          "output_type": "execute_result"
        }
      ],
      "source": [
        "pair_list[0:20]"
      ]
    },
    {
      "cell_type": "code",
      "execution_count": null,
      "id": "1b51aae4",
      "metadata": {
        "id": "1b51aae4",
        "outputId": "8e86e005-f1ee-4be2-9f13-4c645b7adec4"
      },
      "outputs": [
        {
          "data": {
            "text/plain": [
              "409784"
            ]
          },
          "execution_count": 14,
          "metadata": {},
          "output_type": "execute_result"
        }
      ],
      "source": [
        "len(pair_list)"
      ]
    },
    {
      "cell_type": "code",
      "execution_count": null,
      "id": "806de36b",
      "metadata": {
        "id": "806de36b"
      },
      "outputs": [],
      "source": [
        "num_vocab = len(word_to_idx_dict)\n",
        "dim_emb = 50\n",
        "\n",
        "word_u_mat = torch.randn(num_vocab, dim_emb, requires_grad=True)\n",
        "word_v_mat = torch.randn(num_vocab, dim_emb, requires_grad=True)\n"
      ]
    },
    {
      "cell_type": "code",
      "execution_count": null,
      "id": "720609ec",
      "metadata": {
        "id": "720609ec",
        "outputId": "6261d5ed-3a66-48d5-c21c-370fc3c9d24e"
      },
      "outputs": [
        {
          "name": "stdout",
          "output_type": "stream",
          "text": [
            "('harry', 'potter')\n",
            "2373 3827\n"
          ]
        }
      ],
      "source": [
        "pair = pair_list[0]\n",
        "print(pair)\n",
        "\n",
        "center_word = word_to_idx_dict[pair[0]]\n",
        "window_word = word_to_idx_dict[pair[1]]\n",
        "print(center_word, window_word)\n",
        "\n",
        "center_vec = word_v_mat[center_word]\n",
        "window_vec = word_u_mat[window_word]\n",
        "\n",
        "dot_product = (center_vec * window_vec).sum()\n",
        "\n",
        "on_entire_vocab = torch.matmul(center_vec, word_u_mat.T)\n",
        "prob = torch.exp(dot_product) / torch.exp(on_entire_vocab).sum(0)\n",
        "log_prob = -torch.log(prob+1e-8)\n",
        "total_log_prob += log_prob.item()\n"
      ]
    },
    {
      "cell_type": "code",
      "execution_count": null,
      "id": "4621283d",
      "metadata": {
        "id": "4621283d",
        "outputId": "fcbdba15-ce2c-4240-a5b2-f121e34743c1"
      },
      "outputs": [
        {
          "data": {
            "text/plain": [
              "tensor(9.8314, grad_fn=<SumBackward0>)"
            ]
          },
          "execution_count": 84,
          "metadata": {},
          "output_type": "execute_result"
        }
      ],
      "source": [
        "dot_product"
      ]
    },
    {
      "cell_type": "code",
      "execution_count": null,
      "id": "bb845bf5",
      "metadata": {
        "id": "bb845bf5",
        "outputId": "737a1bb7-5660-431b-d81a-d1732556ab51"
      },
      "outputs": [
        {
          "data": {
            "text/plain": [
              "tensor(8.9366e-11, grad_fn=<DivBackward0>)"
            ]
          },
          "execution_count": 85,
          "metadata": {},
          "output_type": "execute_result"
        }
      ],
      "source": [
        "prob"
      ]
    },
    {
      "cell_type": "code",
      "execution_count": null,
      "id": "0d38ccdd",
      "metadata": {
        "scrolled": true,
        "id": "0d38ccdd",
        "outputId": "08a427f8-f78c-48db-cf5e-853f5885fb23"
      },
      "outputs": [
        {
          "data": {
            "text/plain": [
              "(tensor([ 0.8376,  6.5181, -1.1068, -6.1690, 10.2892, -7.3159,  4.6168, -0.5395,\n",
              "         -2.2753,  0.4931], grad_fn=<SliceBackward0>),\n",
              " ['\\the', '0', '1', '1473', '1637', '17', '1709', '1945', '2', '3'])"
            ]
          },
          "execution_count": 70,
          "metadata": {},
          "output_type": "execute_result"
        }
      ],
      "source": [
        "on_entire_vocab[:10], entire_words[:10]"
      ]
    },
    {
      "cell_type": "code",
      "execution_count": null,
      "id": "6f61895e",
      "metadata": {
        "id": "6f61895e",
        "outputId": "f3edfc78-3a79-492e-fade-95a2f7a86764"
      },
      "outputs": [
        {
          "data": {
            "text/plain": [
              "tensor(1.1125e-08, grad_fn=<DivBackward0>)"
            ]
          },
          "execution_count": 75,
          "metadata": {},
          "output_type": "execute_result"
        }
      ],
      "source": [
        "prob = torch.exp(dot_product) / torch.exp(on_entire_vocab).sum(0)\n",
        "prob"
      ]
    },
    {
      "cell_type": "code",
      "execution_count": null,
      "id": "639bd913",
      "metadata": {
        "id": "639bd913"
      },
      "outputs": [],
      "source": [
        ""
      ]
    },
    {
      "cell_type": "code",
      "execution_count": null,
      "id": "db6b3518",
      "metadata": {
        "id": "db6b3518"
      },
      "outputs": [],
      "source": [
        ""
      ]
    },
    {
      "cell_type": "code",
      "execution_count": null,
      "id": "e6485c8f",
      "metadata": {
        "id": "e6485c8f",
        "outputId": "b1603a88-a472-4a09-cfdf-47c0a3b02b2a"
      },
      "outputs": [
        {
          "name": "stderr",
          "output_type": "stream",
          "text": [
            "0it [00:00, ?it/s]\n"
          ]
        }
      ],
      "source": [
        "from tqdm import tqdm\n",
        "total_log_prob = 0\n",
        "for i, pair in tqdm(enumerate(pair_list)):\n",
        "  center_word = word_to_idx_dict[pair[0]]\n",
        "  window_word = word_to_idx_dict[pair[1]]\n",
        "\n",
        "  center_vec = word_v_mat[center_word]\n",
        "  window_vec = word_u_mat[window_word]\n",
        "\n",
        "  dot_product = (center_vec * window_vec).sum()\n",
        "\n",
        "  on_entire_vocab = torch.matmul(center_vec, word_u_mat.T)\n",
        "  prob = torch.exp(dot_product) / torch.exp(on_entire_vocab).sum(0)\n",
        "  log_prob = -torch.log(prob+1e-8)\n",
        "  total_log_prob += log_prob.item()\n",
        "  break\n",
        "total_log_prob /= len(pair_list)"
      ]
    },
    {
      "cell_type": "code",
      "execution_count": null,
      "id": "cbe86e0f",
      "metadata": {
        "id": "cbe86e0f",
        "outputId": "475d1ec0-5356-4850-adf6-f7d807724c44"
      },
      "outputs": [
        {
          "data": {
            "text/plain": [
              "9.496770615671766"
            ]
          },
          "execution_count": 15,
          "metadata": {},
          "output_type": "execute_result"
        }
      ],
      "source": [
        "total_log_prob"
      ]
    },
    {
      "cell_type": "code",
      "execution_count": null,
      "id": "892ffdda",
      "metadata": {
        "id": "892ffdda",
        "outputId": "b5d968a3-1edc-49cd-f9e4-914952cf341b"
      },
      "outputs": [
        {
          "data": {
            "text/plain": [
              "9.050576162988948"
            ]
          },
          "execution_count": 575,
          "metadata": {},
          "output_type": "execute_result"
        }
      ],
      "source": [
        "total_log_prob"
      ]
    },
    {
      "cell_type": "code",
      "execution_count": null,
      "id": "91f3c634",
      "metadata": {
        "id": "91f3c634",
        "outputId": "ddf68d96-8b76-49c1-9738-a3e48f191de2"
      },
      "outputs": [
        {
          "data": {
            "text/plain": [
              "9.050583192043991"
            ]
          },
          "execution_count": 579,
          "metadata": {},
          "output_type": "execute_result"
        }
      ],
      "source": [
        "total_log_prob"
      ]
    },
    {
      "cell_type": "code",
      "execution_count": null,
      "id": "904dfd2a",
      "metadata": {
        "id": "904dfd2a",
        "outputId": "81c3c109-fa47-4940-c5f8-c7e4de34127e"
      },
      "outputs": [
        {
          "data": {
            "text/plain": [
              "('harry', ['potter', 'and', 'the'])"
            ]
          },
          "execution_count": 93,
          "metadata": {},
          "output_type": "execute_result"
        }
      ],
      "source": [
        "pair = pair_list[0]\n",
        "pair"
      ]
    },
    {
      "cell_type": "code",
      "execution_count": null,
      "id": "b708e429",
      "metadata": {
        "id": "b708e429",
        "outputId": "f5a9bd45-f3cb-49f1-9e5e-c0aac8a5a56f"
      },
      "outputs": [
        {
          "data": {
            "text/plain": [
              "['was', 'no', 'reason', 'them', 'to', 'come']"
            ]
          },
          "execution_count": 118,
          "metadata": {},
          "output_type": "execute_result"
        }
      ],
      "source": [
        "pair[1]"
      ]
    },
    {
      "cell_type": "code",
      "execution_count": null,
      "id": "d08f2180",
      "metadata": {
        "id": "d08f2180",
        "outputId": "023ba5ce-510e-4335-9726-efa72bbb0d20"
      },
      "outputs": [
        {
          "data": {
            "text/plain": [
              "['come', 'them', 'no', 'reason', 'was', 'to']"
            ]
          },
          "execution_count": 120,
          "metadata": {},
          "output_type": "execute_result"
        }
      ],
      "source": [
        "random.shuffle(pair[1])\n",
        "pair[1]"
      ]
    },
    {
      "cell_type": "code",
      "execution_count": null,
      "id": "173f608c",
      "metadata": {
        "id": "173f608c",
        "outputId": "4413f9a5-1dfa-4187-f7e7-339661970ddb"
      },
      "outputs": [
        {
          "data": {
            "text/plain": [
              "[5730, 3404, 4035, 5253, 5362, 995]"
            ]
          },
          "execution_count": 114,
          "metadata": {},
          "output_type": "execute_result"
        }
      ],
      "source": [
        "window_word = [word_to_idx_dict[x] for x in pair[1]]\n",
        "window_word"
      ]
    },
    {
      "cell_type": "code",
      "execution_count": null,
      "id": "0eb4cb40",
      "metadata": {
        "id": "0eb4cb40",
        "outputId": "74c7383e-04ef-4265-f159-bdf187025152"
      },
      "outputs": [
        {
          "data": {
            "text/plain": [
              "tensor([[ 0.4065, -1.7162,  0.0747, -1.8217,  0.0709],\n",
              "        [ 1.3715, -1.1222,  0.3804, -0.4967, -0.4712],\n",
              "        [ 0.4398,  1.1155, -0.4709,  1.3453, -1.1896],\n",
              "        [-0.4650, -0.0609, -1.0609,  1.2659, -0.4175],\n",
              "        [-0.5701,  1.1511,  0.3991,  1.0499,  0.2367],\n",
              "        [ 0.5625, -0.1282,  0.8995,  1.4003, -0.0892]],\n",
              "       grad_fn=<SliceBackward0>)"
            ]
          },
          "execution_count": 115,
          "metadata": {},
          "output_type": "execute_result"
        }
      ],
      "source": [
        "window_vec = word_u_mat[window_word]\n",
        "\n",
        "window_vec[:,:5]"
      ]
    },
    {
      "cell_type": "code",
      "execution_count": null,
      "id": "a2c9b60a",
      "metadata": {
        "id": "a2c9b60a",
        "outputId": "2d4e0a5b-0299-4714-c7d8-e00bba28ab57"
      },
      "outputs": [
        {
          "data": {
            "text/plain": [
              "tensor([ 1.7452, -0.7609,  0.2220,  2.7430, -1.8600], grad_fn=<SumBackward1>)"
            ]
          },
          "execution_count": 116,
          "metadata": {},
          "output_type": "execute_result"
        }
      ],
      "source": [
        "window_vec[:,:5].sum(dim=0)"
      ]
    },
    {
      "cell_type": "code",
      "execution_count": null,
      "id": "2c8b60f5",
      "metadata": {
        "id": "2c8b60f5",
        "outputId": "b5b418ed-bf1e-4227-c7ce-1d5cfdf0aae7"
      },
      "outputs": [
        {
          "data": {
            "text/plain": [
              "tensor([ 1.7452, -0.7609,  0.2220,  2.7430, -1.8600, -2.5053, -2.2285,  2.2703,\n",
              "        -3.2337,  3.7582, -2.3065, -4.9750,  2.8501, -3.5975, -4.2921, -0.1057,\n",
              "        -4.8974,  1.1799, -1.6133, -0.0295,  1.7535,  3.0514, -1.0760, -0.0683,\n",
              "         1.2727,  2.7255,  5.7341,  1.2378,  1.5339, -1.3586,  1.7763,  1.8870,\n",
              "         0.7633,  0.0521, -0.8547, -1.8308,  1.6924, -1.9055, -1.0776,  2.4672,\n",
              "         5.2638,  1.7089,  4.2709, -1.8265, -1.1286,  0.2212, -0.2342,  0.9203,\n",
              "         3.5048, -0.3962], grad_fn=<SumBackward1>)"
            ]
          },
          "execution_count": 121,
          "metadata": {},
          "output_type": "execute_result"
        }
      ],
      "source": [
        "window_vec.sum(dim=0)"
      ]
    },
    {
      "cell_type": "code",
      "execution_count": null,
      "id": "8df35b84",
      "metadata": {
        "id": "8df35b84"
      },
      "outputs": [],
      "source": [
        ""
      ]
    },
    {
      "cell_type": "code",
      "execution_count": null,
      "id": "2880cffc",
      "metadata": {
        "id": "2880cffc",
        "outputId": "ff9825dd-6d69-4bbb-ac6d-756ba75bd6c8"
      },
      "outputs": [
        {
          "name": "stderr",
          "output_type": "stream",
          "text": [
            "  0%|                                                                                                           | 0/5 [00:01<?, ?it/s]\n"
          ]
        }
      ],
      "source": [
        "import random\n",
        "from tqdm import tqdm\n",
        "\n",
        "entire_words = get_entire_words(corpus)\n",
        "word_to_idx_dict = word_to_idx(entire_words)\n",
        "num_vocab = len(word_to_idx_dict)\n",
        "dim_emb = 100\n",
        "\n",
        "word_u_mat = torch.randn(num_vocab, dim_emb, requires_grad=True)\n",
        "word_v_mat = torch.randn(num_vocab, dim_emb, requires_grad=True)\n",
        "\n",
        "pair_list = make_word_pair_for_cbow(corpus)\n",
        "# random.shuffle(pair_list)\n",
        "lr = 0.003\n",
        "\n",
        "prob_record = []\n",
        "valid_prob_record = []\n",
        "for i in tqdm(range(5)):\n",
        "#   random.shuffle(pair_list)\n",
        "  total_log_prob = 0\n",
        "  for i, pair in enumerate(pair_list):\n",
        "    center_word = word_to_idx_dict[pair[0]]\n",
        "    center_vec = word_v_mat[center_word]\n",
        "\n",
        "    # for skip-gram\n",
        "#     window_word = word_to_idx_dict[pair[1]]\n",
        "#     window_vec = word_u_mat[window_word]\n",
        "\n",
        "    # for cbow\n",
        "    window_word = [word_to_idx_dict[x] for x in pair[1]]\n",
        "    window_vec = word_u_mat[window_word].sum(dim=0)\n",
        "    \n",
        "    dot_product = (center_vec * window_vec).sum()\n",
        "\n",
        "    on_entire_vocab = torch.matmul(center_vec, word_u_mat.T)\n",
        "    prob = torch.exp(dot_product) / torch.exp(on_entire_vocab).sum(0)\n",
        "    log_prob = -torch.log(prob+1e-6)\n",
        "    total_log_prob += log_prob.item()\n",
        "    log_prob.backward()\n",
        "\n",
        "    word_u_mat.data = word_u_mat.data - word_u_mat.grad * lr\n",
        "    word_v_mat.data = word_v_mat.data - word_v_mat.grad * lr\n",
        "\n",
        "    word_u_mat.grad = None\n",
        "    word_v_mat.grad = None\n",
        "    \n",
        "    prob_record.append(prob.item())\n",
        "    if i == 2000:\n",
        "      break\n",
        "  valid_prob_record.append(total_log_prob/len(pair_list))\n",
        "  break"
      ]
    },
    {
      "cell_type": "code",
      "execution_count": null,
      "id": "9717523c",
      "metadata": {
        "id": "9717523c"
      },
      "outputs": [],
      "source": [
        "import matplotlib.pyplot as plt\n"
      ]
    },
    {
      "cell_type": "code",
      "execution_count": null,
      "id": "28d3f01b",
      "metadata": {
        "id": "28d3f01b",
        "outputId": "f08428ba-8879-494d-a4a5-b64456725256"
      },
      "outputs": [
        {
          "data": {
            "text/plain": [
              "tensor([[-0.9148,  0.3933,  0.0555,  ..., -0.3537,  1.3808, -0.0728],\n",
              "        [ 0.1077,  0.5982,  0.0878,  ..., -1.2789,  1.7118, -1.4186],\n",
              "        [ 0.1236, -1.4748, -0.6155,  ...,  1.5036, -0.8386,  0.6843],\n",
              "        ...,\n",
              "        [-1.4423,  0.0464,  0.1587,  ...,  1.3838, -1.3578,  2.2799],\n",
              "        [-0.5520,  1.1058, -0.7966,  ...,  0.5715,  0.7911,  0.7013],\n",
              "        [ 1.0263, -0.6809,  1.6066,  ..., -1.1207,  1.2769,  0.3038]],\n",
              "       requires_grad=True)"
            ]
          },
          "execution_count": 24,
          "metadata": {},
          "output_type": "execute_result"
        }
      ],
      "source": [
        "word_u_mat"
      ]
    },
    {
      "cell_type": "code",
      "execution_count": null,
      "id": "19b6f6fb",
      "metadata": {
        "scrolled": true,
        "id": "19b6f6fb",
        "outputId": "6db98afd-249f-4998-c2d4-fe8e6c2bd8ad"
      },
      "outputs": [
        {
          "data": {
            "text/plain": [
              "[<matplotlib.lines.Line2D at 0x7f883c037eb0>]"
            ]
          },
          "execution_count": 105,
          "metadata": {},
          "output_type": "execute_result"
        },
        {
          "data": {
            "image/png": "[encoded data removed]",
            "text/plain": [
              "<Figure size 432x288 with 1 Axes>"
            ]
          },
          "metadata": {
            "needs_background": "light"
          },
          "output_type": "display_data"
        }
      ],
      "source": [
        "plt.plot(prob_record)"
      ]
    },
    {
      "cell_type": "code",
      "execution_count": null,
      "id": "c5ee50aa",
      "metadata": {
        "scrolled": false,
        "id": "c5ee50aa",
        "outputId": "70719333-749b-4934-bd50-fad8ebb24ad6"
      },
      "outputs": [
        {
          "data": {
            "text/plain": [
              "[<matplotlib.lines.Line2D at 0x7f88365d49d0>]"
            ]
          },
          "execution_count": 106,
          "metadata": {},
          "output_type": "execute_result"
        },
        {
          "data": {
            "image/png": "[encoded data removed]",
            "text/plain": [
              "<Figure size 432x288 with 1 Axes>"
            ]
          },
          "metadata": {
            "needs_background": "light"
          },
          "output_type": "display_data"
        }
      ],
      "source": [
        "plt.plot(valid_prob_record)"
      ]
    },
    {
      "cell_type": "code",
      "execution_count": null,
      "id": "88a15901",
      "metadata": {
        "id": "88a15901"
      },
      "outputs": [],
      "source": [
        ""
      ]
    },
    {
      "cell_type": "code",
      "execution_count": null,
      "id": "c85cd16e",
      "metadata": {
        "id": "c85cd16e"
      },
      "outputs": [],
      "source": [
        "from collections import Counter\n",
        "total_word_flatten = [word for sentence in corpus for word in sentence]\n",
        "\n",
        "word_counter = Counter(total_word_flatten)"
      ]
    },
    {
      "cell_type": "code",
      "execution_count": null,
      "id": "33a8b155",
      "metadata": {
        "id": "33a8b155"
      },
      "outputs": [],
      "source": [
        "num_total_word = len(total_word_flatten)"
      ]
    },
    {
      "cell_type": "code",
      "execution_count": null,
      "id": "ca3cd433",
      "metadata": {
        "scrolled": true,
        "id": "ca3cd433",
        "outputId": "f9276792-2692-499b-a23b-e6185503e484"
      },
      "outputs": [
        {
          "data": {
            "text/plain": [
              "3628"
            ]
          },
          "execution_count": 40,
          "metadata": {},
          "output_type": "execute_result"
        }
      ],
      "source": [
        "word_counter['the']"
      ]
    },
    {
      "cell_type": "code",
      "execution_count": null,
      "id": "797a5537",
      "metadata": {
        "id": "797a5537"
      },
      "outputs": [],
      "source": [
        "def get_subsampling_prob(word):\n",
        "  z = word_counter[word] / num_total_word\n",
        "  return ((z/0.001) ** 0.5 +1) * 0.001/z"
      ]
    },
    {
      "cell_type": "code",
      "execution_count": null,
      "id": "9d7124fc",
      "metadata": {
        "id": "9d7124fc"
      },
      "outputs": [],
      "source": [
        "test = torch.rand(5)"
      ]
    },
    {
      "cell_type": "code",
      "execution_count": null,
      "id": "43f59e2c",
      "metadata": {
        "id": "43f59e2c"
      },
      "outputs": [],
      "source": [
        ""
      ]
    },
    {
      "cell_type": "code",
      "execution_count": null,
      "id": "78c732d2",
      "metadata": {
        "id": "78c732d2",
        "outputId": "b27b62d1-a406-4692-d14e-6cc3ae756652"
      },
      "outputs": [
        {
          "data": {
            "text/plain": [
              "27917.12409999141"
            ]
          },
          "execution_count": 43,
          "metadata": {},
          "output_type": "execute_result"
        }
      ],
      "source": [
        "compensated_length = sum([x**(3/4) for x in word_counter.values()])\n",
        "compensated_length"
      ]
    },
    {
      "cell_type": "code",
      "execution_count": null,
      "id": "80a50787",
      "metadata": {
        "id": "80a50787"
      },
      "outputs": [],
      "source": [
        "import numpy as np\n",
        "compensated_length = sum([x**(3/4) for x in word_counter.values()])\n",
        "word_in_order = list(word_counter.keys())\n",
        "prob_distribution = np.asarray([x**(3/4)/compensated_length for x in word_counter.values()])"
      ]
    },
    {
      "cell_type": "code",
      "execution_count": null,
      "id": "359155d6",
      "metadata": {
        "id": "359155d6",
        "outputId": "4aa1ef95-898d-4815-d32a-9829d054183f"
      },
      "outputs": [
        {
          "data": {
            "text/plain": [
              "array([7.36704526e-03, 1.08998878e-03, 1.03856947e-02, ...,\n",
              "       3.58203086e-05, 3.58203086e-05, 3.58203086e-05])"
            ]
          },
          "execution_count": 45,
          "metadata": {},
          "output_type": "execute_result"
        }
      ],
      "source": [
        "prob_distribution"
      ]
    },
    {
      "cell_type": "code",
      "execution_count": null,
      "id": "26897fb2",
      "metadata": {
        "id": "26897fb2"
      },
      "outputs": [],
      "source": [
        "random_word = np.random.choice(word_in_order, 10**6, replace=True, p=prob_distribution)"
      ]
    },
    {
      "cell_type": "code",
      "execution_count": null,
      "id": "0fef5cbd",
      "metadata": {
        "id": "0fef5cbd",
        "outputId": "540212f4-54e4-4120-ff56-2495d0034590"
      },
      "outputs": [
        {
          "data": {
            "text/plain": [
              "0.00636744499206543"
            ]
          },
          "execution_count": 47,
          "metadata": {},
          "output_type": "execute_result"
        }
      ],
      "source": [
        "import time\n",
        "\n",
        "time_a = time.time()\n",
        "for i in range(1000):\n",
        "#   np.random.choice(word_in_order, 10, replace=False, p=prob_distribution)\n",
        "  np.random.randint(10**6, size=10)\n",
        "time.time() - time_a"
      ]
    },
    {
      "cell_type": "code",
      "execution_count": null,
      "id": "01c5c273",
      "metadata": {
        "id": "01c5c273",
        "outputId": "e1117af1-30d5-4fb1-c18e-f2b3c9c654b2"
      },
      "outputs": [
        {
          "data": {
            "text/plain": [
              "array([339280,  46887, 838187, 195512, 406640, 966334, 463402,   3369,\n",
              "        42609, 563335])"
            ]
          },
          "execution_count": 48,
          "metadata": {},
          "output_type": "execute_result"
        }
      ],
      "source": [
        "np.random.randint(10**6, size=10)"
      ]
    },
    {
      "cell_type": "code",
      "execution_count": null,
      "id": "718b4771",
      "metadata": {
        "id": "718b4771",
        "outputId": "59f705e9-54c0-4531-e98b-2672fe70fe5a"
      },
      "outputs": [
        {
          "name": "stderr",
          "output_type": "stream",
          "text": [
            "100%|█████████████████████████████████████████████████████████████████████████████████████████████████| 10/10 [15:58<00:00, 95.82s/it]\n"
          ]
        }
      ],
      "source": [
        "num_vocab = len(word_to_idx_dict)\n",
        "dim_emb = 50\n",
        "\n",
        "entire_words = get_entire_words(corpus)\n",
        "word_to_idx_dict = word_to_idx(entire_words)\n",
        "num_vocab = len(word_to_idx_dict)\n",
        "\n",
        "word_u_mat = torch.rand(num_vocab, dim_emb)-0.5\n",
        "word_v_mat = torch.rand(num_vocab, dim_emb)-0.5\n",
        "\n",
        "word_u_mat.requires_grad=True\n",
        "word_v_mat.requires_grad=True\n",
        "\n",
        "pair_list = make_word_pair(corpus)\n",
        "random.shuffle(pair_list)\n",
        "lr = 0.01\n",
        "\n",
        "prob_record = []\n",
        "valid_prob_record = []\n",
        "for i in tqdm(range(10)):\n",
        "  random.shuffle(pair_list)\n",
        "  total_log_prob = 0\n",
        "  for pair in pair_list:\n",
        "    valid_prob = get_subsampling_prob(pair[0])\n",
        "    if random.random() > valid_prob:\n",
        "      continue\n",
        "    center_word = word_to_idx_dict[pair[0]]\n",
        "    window_word = word_to_idx_dict[pair[1]]\n",
        "    \n",
        "#     negative_word_string = np.random.choice(word_in_order, 10, replace=False, p=prob_distribution)\n",
        "    negative_word_string = random_word[np.random.randint(10**6, size=10)]\n",
        "    negative_word = [word_to_idx_dict[x] for x in negative_word_string] \n",
        "\n",
        "    center_vec = word_v_mat[center_word]\n",
        "    window_vec = word_u_mat[[window_word] + negative_word]\n",
        "#     negative_vec = word_u_mat[negative_word]\n",
        "\n",
        "# #     dot_product = (center_vec * window_vec).sum()\n",
        "# #     prob = 1 / (1+torch.exp(-dot_product))\n",
        "    prob = torch.sigmoid(torch.matmul(center_vec, window_vec.T))\n",
        "    log_prob = -torch.log(prob[0]+1e-7) -torch.log(1-prob[1:]).mean()\n",
        "#     log_prob = -torch.log(prob+1e-7).mean()\n",
        "    \n",
        "# #     negative_product = (center_vec * negative_vec).sum(dim=-1)\n",
        "# #     negative_prob = 1 - 1 / (1+torch.exp(-negative_product))\n",
        "#     negative_prob = torch.sigmoid(torch.matmul(center_vec, negative_vec.T))\n",
        "#     negative_log_prob = -torch.log(negative_prob+1e-7)\n",
        "    \n",
        "    \n",
        "    \n",
        "    \n",
        "#     log_prob += negative_log_prob.mean()\n",
        "    \n",
        "    total_log_prob += log_prob.item()\n",
        "    log_prob.backward()\n",
        "    \n",
        "    u_idx = list(set(negative_word + [window_word]))\n",
        "    word_u_mat.data[u_idx] -= word_u_mat.grad[u_idx] * lr\n",
        "    word_v_mat.data[center_word] -= word_v_mat.grad[center_word] * lr\n",
        "\n",
        "#     word_u_mat.grad = None\n",
        "#     word_v_mat.grad = None\n",
        "\n",
        "    prob_record.append(prob[0].item())\n",
        "  valid_prob_record.append(total_log_prob/len(pair_list))"
      ]
    },
    {
      "cell_type": "code",
      "execution_count": null,
      "id": "cb549ec5",
      "metadata": {
        "id": "cb549ec5",
        "outputId": "1736db3e-8200-43d3-dab9-95d2881cbb28"
      },
      "outputs": [
        {
          "data": {
            "text/plain": [
              "tensor(0.4654, grad_fn=<DotBackward0>)"
            ]
          },
          "execution_count": 525,
          "metadata": {},
          "output_type": "execute_result"
        }
      ],
      "source": [
        "torch.matmul(center_vec, window_vec)"
      ]
    },
    {
      "cell_type": "code",
      "execution_count": null,
      "id": "001ba9ba",
      "metadata": {
        "id": "001ba9ba",
        "outputId": "fa80ab87-4228-4d16-ac87-efa94b600191"
      },
      "outputs": [
        {
          "data": {
            "text/plain": [
              "tensor([ 0.0340, -0.3588,  0.0302, -0.1230,  0.1131,  0.0299, -0.0923,  0.1989,\n",
              "         0.2420, -0.0702, -0.2119, -0.1785, -0.1178,  0.0235,  0.0574,  0.2094,\n",
              "         0.0207, -0.0889, -0.0707, -0.1035,  0.1760, -0.0169,  0.1905,  0.2550,\n",
              "        -0.0318, -0.2882, -0.1561,  0.3068,  0.1412,  0.2466,  0.2190,  0.2446,\n",
              "        -0.2212,  0.2536,  0.1932, -0.0166, -0.2372, -0.2097, -0.0189,  0.1127,\n",
              "         0.1202,  0.2240, -0.1238, -0.2353, -0.2771, -0.0720, -0.0528,  0.2417,\n",
              "         0.1722,  0.1823])"
            ]
          },
          "execution_count": 516,
          "metadata": {},
          "output_type": "execute_result"
        }
      ],
      "source": [
        "word_v_mat.grad[center_word]"
      ]
    },
    {
      "cell_type": "code",
      "execution_count": null,
      "id": "e4fc9290",
      "metadata": {
        "id": "e4fc9290",
        "outputId": "c69105b0-d9c2-47b6-ddab-25ea89a57805"
      },
      "outputs": [
        {
          "data": {
            "text/plain": [
              "[<matplotlib.lines.Line2D at 0x7f18ecccf400>]"
            ]
          },
          "execution_count": 480,
          "metadata": {},
          "output_type": "execute_result"
        },
        {
          "data": {
            "image/png": "[encoded data removed]",
            "text/plain": [
              "<Figure size 432x288 with 1 Axes>"
            ]
          },
          "metadata": {
            "needs_background": "light"
          },
          "output_type": "display_data"
        }
      ],
      "source": [
        "plt.plot(valid_prob_record)"
      ]
    },
    {
      "cell_type": "code",
      "execution_count": null,
      "id": "465e88bb",
      "metadata": {
        "id": "465e88bb"
      },
      "outputs": [],
      "source": [
        ""
      ]
    },
    {
      "cell_type": "code",
      "execution_count": null,
      "id": "34604732",
      "metadata": {
        "id": "34604732"
      },
      "outputs": [],
      "source": [
        ""
      ]
    },
    {
      "cell_type": "code",
      "execution_count": null,
      "id": "62b3af72",
      "metadata": {
        "id": "62b3af72"
      },
      "outputs": [],
      "source": [
        "word_vec = (word_v_mat+word_u_mat) / 2"
      ]
    },
    {
      "cell_type": "code",
      "execution_count": null,
      "id": "33cf1554",
      "metadata": {
        "id": "33cf1554",
        "outputId": "8172e9eb-f593-4343-8f34-35a66baf514b"
      },
      "outputs": [
        {
          "name": "stdout",
          "output_type": "stream",
          "text": [
            "[('treasure', 0.44787484407424927),\n",
            " ('shapes', 0.32939448952674866),\n",
            " ('fall', 0.32648637890815735),\n",
            " ('tore', 0.32568755745887756),\n",
            " ('trowels', 0.3098050653934479),\n",
            " ('shaped', 0.3017110228538513),\n",
            " ('normal', 0.3011512756347656),\n",
            " ('vision', 0.2968907356262207),\n",
            " ('gown', 0.2956395745277405),\n",
            " ('fist', 0.29216134548187256)]\n"
          ]
        }
      ],
      "source": [
        "word_vec = (word_v_mat+word_u_mat) / 2\n",
        "import pprint as pp\n",
        "class Word2Vec:\n",
        "  def __init__(self, vectors, unique_words):\n",
        "    self.vec = vectors\n",
        "    self.vocab = unique_words\n",
        "    self.wrd2idx = word_to_idx(unique_words)\n",
        "    self.idx2wrd = {i:x for i, x in enumerate(unique_words)}\n",
        "  \n",
        "  def most_similar(self, wrd):\n",
        "    assert wrd in self.vocab, f\"{wrd} is not included in the vocab\"\n",
        "    wrd_vec = self.vec[self.wrd2idx[wrd]]\n",
        "    similarity = torch.nn.functional.cosine_similarity(wrd_vec, self.vec)\n",
        "    similarity[self.wrd2idx[wrd]] = 0\n",
        "    value, index = torch.sort(similarity, descending=True)\n",
        "    pp.pprint([(model.idx2wrd[index[i].item()], value[i].item()) for i in range(10)])\n",
        "    \n",
        "  def _cal_entire_dot_product(self, vec):\n",
        "    return torch.matmul(vec, self.vec.T)\n",
        "\n",
        "model = Word2Vec(word_vec, entire_words)\n",
        "sim = model.most_similar('harry')"
      ]
    },
    {
      "cell_type": "code",
      "execution_count": null,
      "id": "8df11fa7",
      "metadata": {
        "id": "8df11fa7",
        "outputId": "b9060772-934b-419f-d866-9c7f00407354"
      },
      "outputs": [
        {
          "data": {
            "text/plain": [
              "[('mahler', tensor(1., grad_fn=<SelectBackward0>)),\n",
              " ('was', tensor(0.4068, grad_fn=<SelectBackward0>)),\n",
              " ('operatic', tensor(0.3925, grad_fn=<SelectBackward0>)),\n",
              " ('listeners', tensor(0.3846, grad_fn=<SelectBackward0>)),\n",
              " ('tradition', tensor(0.3803, grad_fn=<SelectBackward0>)),\n",
              " ('the', tensor(0.3685, grad_fn=<SelectBackward0>)),\n",
              " ('europe', tensor(0.3637, grad_fn=<SelectBackward0>)),\n",
              " ('early', tensor(0.3515, grad_fn=<SelectBackward0>)),\n",
              " ('displayed', tensor(0.3508, grad_fn=<SelectBackward0>)),\n",
              " ('gifts', tensor(0.3460, grad_fn=<SelectBackward0>))]"
            ]
          },
          "execution_count": 199,
          "metadata": {},
          "output_type": "execute_result"
        }
      ],
      "source": [
        "value, index = torch.sort(sim, descending=True)\n",
        "[(model.idx2wrd[index[i].item()], value[i]) for i in range(10)]"
      ]
    },
    {
      "cell_type": "code",
      "execution_count": null,
      "id": "6782a397",
      "metadata": {
        "id": "6782a397"
      },
      "outputs": [],
      "source": [
        ""
      ]
    },
    {
      "cell_type": "code",
      "execution_count": null,
      "id": "a8fe3760",
      "metadata": {
        "id": "a8fe3760"
      },
      "outputs": [],
      "source": [
        ""
      ]
    },
    {
      "cell_type": "code",
      "execution_count": null,
      "id": "cdafc51d",
      "metadata": {
        "id": "cdafc51d",
        "outputId": "893713aa-0c34-48a7-f05d-530be728ee8c"
      },
      "outputs": [
        {
          "data": {
            "text/plain": [
              "tensor([ 1.0000e+00,  4.0679e-01,  3.9248e-01,  3.8456e-01,  3.8025e-01,\n",
              "         3.6855e-01,  3.6373e-01,  3.5147e-01,  3.5083e-01,  3.4598e-01,\n",
              "         3.3482e-01,  3.3314e-01,  3.2719e-01,  3.2509e-01,  3.1455e-01,\n",
              "         3.1331e-01,  3.1159e-01,  3.0863e-01,  3.0150e-01,  3.0107e-01,\n",
              "         3.0041e-01,  3.0008e-01,  2.9283e-01,  2.9116e-01,  2.7639e-01,\n",
              "         2.7156e-01,  2.7134e-01,  2.6538e-01,  2.6165e-01,  2.5717e-01,\n",
              "         2.5558e-01,  2.5439e-01,  2.5354e-01,  2.5061e-01,  2.5009e-01,\n",
              "         2.4996e-01,  2.4985e-01,  2.4658e-01,  2.4237e-01,  2.3933e-01,\n",
              "         2.2526e-01,  2.2117e-01,  2.2106e-01,  2.1418e-01,  2.1331e-01,\n",
              "         2.1324e-01,  2.1311e-01,  2.1282e-01,  2.1158e-01,  2.1150e-01,\n",
              "         2.0905e-01,  1.8952e-01,  1.8637e-01,  1.8114e-01,  1.7889e-01,\n",
              "         1.7731e-01,  1.7645e-01,  1.7624e-01,  1.7401e-01,  1.7293e-01,\n",
              "         1.6957e-01,  1.6786e-01,  1.6608e-01,  1.6600e-01,  1.6026e-01,\n",
              "         1.5750e-01,  1.5586e-01,  1.5428e-01,  1.5341e-01,  1.5299e-01,\n",
              "         1.4935e-01,  1.4674e-01,  1.4551e-01,  1.4236e-01,  1.4124e-01,\n",
              "         1.4111e-01,  1.4091e-01,  1.4054e-01,  1.3959e-01,  1.3846e-01,\n",
              "         1.3837e-01,  1.3382e-01,  1.3072e-01,  1.2954e-01,  1.2857e-01,\n",
              "         1.2623e-01,  1.2425e-01,  1.2395e-01,  1.2373e-01,  1.1834e-01,\n",
              "         1.1510e-01,  1.1137e-01,  1.0671e-01,  1.0315e-01,  1.0285e-01,\n",
              "         1.0229e-01,  1.0032e-01,  9.6199e-02,  9.5761e-02,  9.5196e-02,\n",
              "         9.1796e-02,  9.1106e-02,  9.0491e-02,  8.9942e-02,  8.7367e-02,\n",
              "         8.7033e-02,  8.4928e-02,  8.4233e-02,  8.1782e-02,  7.5246e-02,\n",
              "         7.3691e-02,  7.3084e-02,  6.8217e-02,  6.2001e-02,  6.1058e-02,\n",
              "         6.0610e-02,  6.0192e-02,  5.4638e-02,  5.1220e-02,  4.8231e-02,\n",
              "         4.7933e-02,  4.0830e-02,  4.0539e-02,  3.9737e-02,  3.7614e-02,\n",
              "         3.7360e-02,  3.2789e-02,  3.2686e-02,  3.0090e-02,  2.9842e-02,\n",
              "         2.7632e-02,  2.1810e-02,  2.1556e-02,  2.1057e-02,  1.4029e-02,\n",
              "         1.3754e-02,  1.2183e-02,  9.5518e-03,  9.4025e-03,  5.8185e-03,\n",
              "         4.5468e-03,  3.8589e-03,  5.8236e-04,  4.9417e-04,  4.7244e-04,\n",
              "        -4.5207e-03, -4.8944e-03, -7.5796e-03, -8.4904e-03, -9.1328e-03,\n",
              "        -1.3009e-02, -2.0477e-02, -2.0941e-02, -2.5720e-02, -3.0286e-02,\n",
              "        -3.2506e-02, -3.2967e-02, -3.9005e-02, -3.9837e-02, -4.3153e-02,\n",
              "        -4.5128e-02, -4.6426e-02, -4.9510e-02, -5.1052e-02, -5.2118e-02,\n",
              "        -5.2552e-02, -5.8195e-02, -5.8995e-02, -6.0447e-02, -6.0871e-02,\n",
              "        -6.2521e-02, -6.7459e-02, -7.0835e-02, -7.2486e-02, -7.6836e-02,\n",
              "        -7.9470e-02, -8.3982e-02, -8.8152e-02, -8.9852e-02, -9.2172e-02,\n",
              "        -9.6136e-02, -9.6623e-02, -9.8959e-02, -1.0371e-01, -1.0845e-01,\n",
              "        -1.1008e-01, -1.1101e-01, -1.1394e-01, -1.1693e-01, -1.1979e-01,\n",
              "        -1.2079e-01, -1.2465e-01, -1.2572e-01, -1.2574e-01, -1.4046e-01,\n",
              "        -1.4091e-01, -1.4365e-01, -1.4502e-01, -1.5227e-01, -1.5334e-01,\n",
              "        -1.5740e-01, -1.5900e-01, -1.5938e-01, -1.6531e-01, -1.6767e-01,\n",
              "        -1.7010e-01, -1.7555e-01, -1.7679e-01, -1.8082e-01, -1.8198e-01,\n",
              "        -1.8206e-01, -1.8350e-01, -1.8614e-01, -1.8777e-01, -1.8986e-01,\n",
              "        -1.9041e-01, -1.9119e-01, -1.9198e-01, -1.9316e-01, -1.9430e-01,\n",
              "        -1.9622e-01, -2.0276e-01, -2.0834e-01, -2.1992e-01, -2.2725e-01,\n",
              "        -2.3293e-01, -2.3967e-01, -2.4605e-01, -2.6928e-01, -2.6967e-01,\n",
              "        -2.7128e-01, -2.7752e-01, -2.8007e-01, -2.8927e-01, -3.1901e-01,\n",
              "        -3.3877e-01, -3.5334e-01, -4.0030e-01, -4.0375e-01, -4.3392e-01],\n",
              "       grad_fn=<SortBackward0>)"
            ]
          },
          "execution_count": 196,
          "metadata": {},
          "output_type": "execute_result"
        }
      ],
      "source": [
        ""
      ]
    },
    {
      "cell_type": "code",
      "execution_count": null,
      "id": "fbdf7aa6",
      "metadata": {
        "id": "fbdf7aa6"
      },
      "outputs": [],
      "source": [
        ""
      ]
    },
    {
      "cell_type": "code",
      "execution_count": null,
      "id": "943313b5",
      "metadata": {
        "id": "943313b5",
        "outputId": "964699b5-c39e-4e3c-de15-c088ad8db2a1"
      },
      "outputs": [
        {
          "data": {
            "text/plain": [
              "tensor([-4.3392e-01, -4.0375e-01, -4.0030e-01, -3.5334e-01, -3.3877e-01,\n",
              "        -3.1901e-01, -2.8927e-01, -2.8007e-01, -2.7752e-01, -2.7128e-01,\n",
              "        -2.6967e-01, -2.6928e-01, -2.4605e-01, -2.3967e-01, -2.3293e-01,\n",
              "        -2.2725e-01, -2.1992e-01, -2.0834e-01, -2.0276e-01, -1.9622e-01,\n",
              "        -1.9430e-01, -1.9316e-01, -1.9198e-01, -1.9119e-01, -1.9041e-01,\n",
              "        -1.8986e-01, -1.8777e-01, -1.8614e-01, -1.8350e-01, -1.8206e-01,\n",
              "        -1.8198e-01, -1.8082e-01, -1.7679e-01, -1.7555e-01, -1.7010e-01,\n",
              "        -1.6767e-01, -1.6531e-01, -1.5938e-01, -1.5900e-01, -1.5740e-01,\n",
              "        -1.5334e-01, -1.5227e-01, -1.4502e-01, -1.4365e-01, -1.4091e-01,\n",
              "        -1.4046e-01, -1.2574e-01, -1.2572e-01, -1.2465e-01, -1.2079e-01,\n",
              "        -1.1979e-01, -1.1693e-01, -1.1394e-01, -1.1101e-01, -1.1008e-01,\n",
              "        -1.0845e-01, -1.0371e-01, -9.8959e-02, -9.6623e-02, -9.6136e-02,\n",
              "        -9.2172e-02, -8.9852e-02, -8.8152e-02, -8.3982e-02, -7.9470e-02,\n",
              "        -7.6836e-02, -7.2486e-02, -7.0835e-02, -6.7459e-02, -6.2521e-02,\n",
              "        -6.0871e-02, -6.0447e-02, -5.8995e-02, -5.8195e-02, -5.2552e-02,\n",
              "        -5.2118e-02, -5.1052e-02, -4.9510e-02, -4.6426e-02, -4.5128e-02,\n",
              "        -4.3153e-02, -3.9837e-02, -3.9005e-02, -3.2967e-02, -3.2506e-02,\n",
              "        -3.0286e-02, -2.5720e-02, -2.0941e-02, -2.0477e-02, -1.3009e-02,\n",
              "        -9.1328e-03, -8.4904e-03, -7.5796e-03, -4.8944e-03, -4.5207e-03,\n",
              "         4.7244e-04,  4.9417e-04,  5.8236e-04,  3.8589e-03,  4.5468e-03,\n",
              "         5.8185e-03,  9.4025e-03,  9.5518e-03,  1.2183e-02,  1.3754e-02,\n",
              "         1.4029e-02,  2.1057e-02,  2.1556e-02,  2.1810e-02,  2.7632e-02,\n",
              "         2.9842e-02,  3.0090e-02,  3.2686e-02,  3.2789e-02,  3.7360e-02,\n",
              "         3.7614e-02,  3.9737e-02,  4.0539e-02,  4.0830e-02,  4.7933e-02,\n",
              "         4.8231e-02,  5.1220e-02,  5.4638e-02,  6.0192e-02,  6.0610e-02,\n",
              "         6.1058e-02,  6.2001e-02,  6.8217e-02,  7.3084e-02,  7.3691e-02,\n",
              "         7.5246e-02,  8.1782e-02,  8.4233e-02,  8.4928e-02,  8.7033e-02,\n",
              "         8.7367e-02,  8.9942e-02,  9.0491e-02,  9.1106e-02,  9.1796e-02,\n",
              "         9.5196e-02,  9.5761e-02,  9.6199e-02,  1.0032e-01,  1.0229e-01,\n",
              "         1.0285e-01,  1.0315e-01,  1.0671e-01,  1.1137e-01,  1.1510e-01,\n",
              "         1.1834e-01,  1.2373e-01,  1.2395e-01,  1.2425e-01,  1.2623e-01,\n",
              "         1.2857e-01,  1.2954e-01,  1.3072e-01,  1.3382e-01,  1.3837e-01,\n",
              "         1.3846e-01,  1.3959e-01,  1.4054e-01,  1.4091e-01,  1.4111e-01,\n",
              "         1.4124e-01,  1.4236e-01,  1.4551e-01,  1.4674e-01,  1.4935e-01,\n",
              "         1.5299e-01,  1.5341e-01,  1.5428e-01,  1.5586e-01,  1.5750e-01,\n",
              "         1.6026e-01,  1.6600e-01,  1.6608e-01,  1.6786e-01,  1.6957e-01,\n",
              "         1.7293e-01,  1.7401e-01,  1.7624e-01,  1.7645e-01,  1.7731e-01,\n",
              "         1.7889e-01,  1.8114e-01,  1.8637e-01,  1.8952e-01,  2.0905e-01,\n",
              "         2.1150e-01,  2.1158e-01,  2.1282e-01,  2.1311e-01,  2.1324e-01,\n",
              "         2.1331e-01,  2.1418e-01,  2.2106e-01,  2.2117e-01,  2.2526e-01,\n",
              "         2.3933e-01,  2.4237e-01,  2.4658e-01,  2.4985e-01,  2.4996e-01,\n",
              "         2.5009e-01,  2.5061e-01,  2.5354e-01,  2.5439e-01,  2.5558e-01,\n",
              "         2.5717e-01,  2.6165e-01,  2.6538e-01,  2.7134e-01,  2.7156e-01,\n",
              "         2.7639e-01,  2.9116e-01,  2.9283e-01,  3.0008e-01,  3.0041e-01,\n",
              "         3.0107e-01,  3.0150e-01,  3.0863e-01,  3.1159e-01,  3.1331e-01,\n",
              "         3.1455e-01,  3.2509e-01,  3.2719e-01,  3.3314e-01,  3.3482e-01,\n",
              "         3.4598e-01,  3.5083e-01,  3.5147e-01,  3.6373e-01,  3.6855e-01,\n",
              "         3.8025e-01,  3.8456e-01,  3.9248e-01,  4.0679e-01,  1.0000e+00],\n",
              "       grad_fn=<SortBackward0>)"
            ]
          },
          "execution_count": 192,
          "metadata": {},
          "output_type": "execute_result"
        }
      ],
      "source": [
        "value"
      ]
    },
    {
      "cell_type": "code",
      "execution_count": null,
      "id": "4b41f86a",
      "metadata": {
        "scrolled": true,
        "id": "4b41f86a",
        "outputId": "aed74c94-604f-4707-fcdb-2fa544bc2f15"
      },
      "outputs": [
        {
          "ename": "AttributeError",
          "evalue": "module 'torch' has no attribute 'CosineSimilarity'",
          "output_type": "error",
          "traceback": [
            "\u001b[0;31m---------------------------------------------------------------------------\u001b[0m",
            "\u001b[0;31mAttributeError\u001b[0m                            Traceback (most recent call last)",
            "Input \u001b[0;32mIn [185]\u001b[0m, in \u001b[0;36m<module>\u001b[0;34m\u001b[0m\n\u001b[0;32m----> 1\u001b[0m \u001b[43mtorch\u001b[49m\u001b[38;5;241;43m.\u001b[39;49m\u001b[43mCosineSimilarity\u001b[49m\n",
            "\u001b[0;31mAttributeError\u001b[0m: module 'torch' has no attribute 'CosineSimilarity'"
          ]
        }
      ],
      "source": [
        "torch.CosineSimilarity"
      ]
    },
    {
      "cell_type": "code",
      "execution_count": null,
      "id": "d5ee9935",
      "metadata": {
        "id": "d5ee9935"
      },
      "outputs": [],
      "source": [
        ""
      ]
    },
    {
      "cell_type": "code",
      "execution_count": null,
      "id": "c9a07e86",
      "metadata": {
        "id": "c9a07e86",
        "outputId": "60945248-af0f-4e6c-dfc4-cf8bc4dc8168"
      },
      "outputs": [
        {
          "data": {
            "text/plain": [
              "tensor([-0.2413,  0.2464, -0.4396, -0.2109, -0.1728, -0.0310,  0.1987, -0.0050,\n",
              "        -0.0709, -0.4284,  0.3129, -0.2714,  0.4896,  0.4703,  0.0808,  0.0236,\n",
              "        -0.2900, -0.2431,  0.4144, -0.2510, -0.1350, -0.0822, -0.0416, -0.3595,\n",
              "         0.3859,  0.1118,  0.3723, -0.1724, -0.1682,  0.1996],\n",
              "       grad_fn=<SelectBackward0>)"
            ]
          },
          "execution_count": 162,
          "metadata": {},
          "output_type": "execute_result"
        }
      ],
      "source": [
        "word_v_mat.gr"
      ]
    },
    {
      "cell_type": "code",
      "execution_count": null,
      "id": "62477e4b",
      "metadata": {
        "id": "62477e4b",
        "outputId": "844c915c-9ad0-4080-8eed-abb735d83d94"
      },
      "outputs": [
        {
          "data": {
            "text/plain": [
              "0.004166666666666667"
            ]
          },
          "execution_count": 138,
          "metadata": {},
          "output_type": "execute_result"
        }
      ],
      "source": [
        "1/240"
      ]
    },
    {
      "cell_type": "code",
      "execution_count": null,
      "id": "a9bb77a6",
      "metadata": {
        "id": "a9bb77a6",
        "outputId": "3057ace3-2784-477e-dc34-b03a52ba57dd"
      },
      "outputs": [
        {
          "data": {
            "text/plain": [
              "torch.nn.modules.distance.CosineSimilarity"
            ]
          },
          "execution_count": 181,
          "metadata": {},
          "output_type": "execute_result"
        }
      ],
      "source": [
        ""
      ]
    },
    {
      "cell_type": "code",
      "execution_count": null,
      "id": "9ab4c4f9",
      "metadata": {
        "id": "9ab4c4f9"
      },
      "outputs": [],
      "source": [
        ""
      ]
    },
    {
      "cell_type": "code",
      "execution_count": null,
      "id": "b1380422",
      "metadata": {
        "id": "b1380422"
      },
      "outputs": [],
      "source": [
        "likelihood = 1\n",
        "for word_position_t in sentence:\n",
        "  center_word = get_word_by_position(word_position_t)\n",
        "  for relative_position_j in range(-window_size_m, window_size_m+1):\n",
        "    context_word = get_word_by_position(word_position_t + relative_position_j)\n",
        "    probability = get_probability(model_theta, center_word, context_word)\n",
        "    likelihood *= probability"
      ]
    },
    {
      "cell_type": "code",
      "execution_count": null,
      "id": "b46f8516",
      "metadata": {
        "id": "b46f8516",
        "outputId": "c619255e-33b6-40f2-fea1-4303d171ead3"
      },
      "outputs": [
        {
          "data": {
            "text/plain": [
              "[-4, -3, -2, -1, 0, 1, 2, 3]"
            ]
          },
          "execution_count": 38,
          "metadata": {},
          "output_type": "execute_result"
        }
      ],
      "source": [
        "list(range(-4,4))"
      ]
    },
    {
      "cell_type": "code",
      "execution_count": null,
      "id": "9a3eebb7",
      "metadata": {
        "id": "9a3eebb7"
      },
      "outputs": [],
      "source": [
        "from gensim.test.utils import common_texts\n",
        "from gensim.models import Word2Vec\n",
        "\n",
        "model = Word2Vec(sentences=corpus, vector_size=100, window=5, min_count=5, workers=4, epochs=100, negative=30, sg=1)"
      ]
    },
    {
      "cell_type": "code",
      "execution_count": null,
      "id": "04cd4dbc",
      "metadata": {
        "id": "04cd4dbc",
        "outputId": "c19c3304-d849-4c25-bad4-ddf703d601c4"
      },
      "outputs": [
        {
          "data": {
            "text/plain": [
              "[('harry', 0.7592000365257263),\n",
              " ('hermione', 0.6609112024307251),\n",
              " ('he', 0.5657274127006531),\n",
              " ('and', 0.5615572333335876),\n",
              " ('said', 0.5594265460968018),\n",
              " ('you', 0.5511492490768433),\n",
              " ('to', 0.5364127159118652),\n",
              " ('at', 0.5333330035209656),\n",
              " ('it', 0.5326508283615112),\n",
              " ('but', 0.522513747215271)]"
            ]
          },
          "execution_count": 145,
          "metadata": {},
          "output_type": "execute_result"
        }
      ],
      "source": [
        "model.wv.most_similar('ron')"
      ]
    },
    {
      "cell_type": "code",
      "execution_count": null,
      "id": "e4a395b3",
      "metadata": {
        "id": "e4a395b3"
      },
      "outputs": [],
      "source": [
        "??Word2Vec"
      ]
    },
    {
      "cell_type": "code",
      "execution_count": null,
      "id": "ebd28dd1",
      "metadata": {
        "id": "ebd28dd1"
      },
      "outputs": [],
      "source": [
        ""
      ]
    }
  ],
  "metadata": {
    "kernelspec": {
      "display_name": "Python 3 (ipykernel)",
      "language": "python",
      "name": "python3"
    },
    "language_info": {
      "codemirror_mode": {
        "name": "ipython",
        "version": 3
      },
      "file_extension": ".py",
      "mimetype": "text/x-python",
      "name": "python",
      "nbconvert_exporter": "python",
      "pygments_lexer": "ipython3",
      "version": "3.8.10"
    },
    "colab": {
      "name": "“1. Word2Vec training practice.ipynb”的副本",
      "provenance": [],
      "include_colab_link": true
    }
  },
  "nbformat": 4,
  "nbformat_minor": 5
}