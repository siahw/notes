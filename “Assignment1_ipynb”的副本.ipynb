{
  "cells": [
    {
      "cell_type": "markdown",
      "metadata": {
        "id": "view-in-github",
        "colab_type": "text"
      },
      "source": [
        "<a href=\"https://colab.research.google.com/github/siahw/notes/blob/main/%E2%80%9CAssignment1_ipynb%E2%80%9D%E7%9A%84%E5%89%AF%E6%9C%AC.ipynb\" target=\"_parent\"><img src=\"https://colab.research.google.com/assets/colab-badge.svg\" alt=\"Open In Colab\"/></a>"
      ]
    },
    {
      "cell_type": "markdown",
      "id": "145148bd",
      "metadata": {
        "id": "145148bd"
      },
      "source": [
        "# Assignment 1\n",
        "\n",
        "In this assignment, you will explore about word vectors.\n",
        "\n",
        "- Submision: A report in ``PDF``, and your completed notebook file in ``ipynb``\n",
        "    - The assignment will be evalulated mainly with report. So please include every detail you want to present in your report\n",
        "    - Report: Free format. You can copy and paste part of your code for some problems.\n",
        "    - ipynb: Save your notebook (with output of each cell if possible) as ipynb and submit it\n",
        "- Evaluation criteria\n",
        "    - How interesting and original are the presented examples\n",
        "    - How well you describe the reason of success or failure of your examples by considering how Word2Vec is trained"
      ]
    },
    {
      "cell_type": "markdown",
      "id": "97ee4fd6",
      "metadata": {
        "id": "97ee4fd6"
      },
      "source": [
        "## 0. Setup\n",
        "- Check ``gensim`` library is installed\n",
        "- List the downloadable vectors from ``gensim``\n"
      ]
    },
    {
      "cell_type": "code",
      "execution_count": null,
      "id": "db0bbbcb",
      "metadata": {
        "id": "db0bbbcb"
      },
      "outputs": [],
      "source": [
        "import gensim\n",
        "import numpy as np\n",
        "import pprint as pp\n",
        "print(gensim.__version__)"
      ]
    },
    {
      "cell_type": "code",
      "execution_count": null,
      "id": "9bbeb288",
      "metadata": {
        "id": "9bbeb288"
      },
      "outputs": [],
      "source": [
        "import gensim.downloader\n",
        "list(gensim.downloader.info()['models'].keys())"
      ]
    },
    {
      "cell_type": "markdown",
      "id": "aeae1e1d",
      "metadata": {
        "id": "aeae1e1d"
      },
      "source": [
        "- Among the Word2Vec model codes above, select one model of your choice among ``glove-wiki-gigaword`` or ``glove-twitter``\n",
        "    - numbers at the last represents the number of dimension of each Word2Vec Model\n",
        "        - e.g. ``glove-twitter-25`` was trained on twitter dataset while embedding each word into 25-dim vector\n",
        "        - e.g. ``glove-twitter-200`` was trained on twitter dataset while embedding each word into 25-dim vector\n",
        "- Download the selected model and load it as a ``model``"
      ]
    },
    {
      "cell_type": "code",
      "execution_count": null,
      "id": "a0ace8aa",
      "metadata": {
        "id": "a0ace8aa"
      },
      "outputs": [],
      "source": [
        "your_model_code = '' # select among the model code aboves\n",
        "model = gensim.downloader.load(your_model_code) # download and load the model. It can take some time"
      ]
    },
    {
      "cell_type": "code",
      "execution_count": null,
      "id": "41125ee7",
      "metadata": {
        "scrolled": true,
        "id": "41125ee7"
      },
      "outputs": [],
      "source": [
        "# test the model output\n",
        "model['cat']"
      ]
    },
    {
      "cell_type": "markdown",
      "id": "73a673d6",
      "metadata": {
        "id": "73a673d6"
      },
      "source": [
        "## Problem 1. Find Most Similar Words (10 pts)\n",
        "- One of the most simple and typical use case of Word2Vec is finding a word based on similarity.\n",
        "- You can list the most similar words for a given query word by using ``model.most_similar(your_word)``\n",
        "    - Usually, every word in Word2Vec model is in lowercase\n",
        "    \n",
        "- **In your report**, present more than **5** interesting examples and explain why it was interesting for you**\n",
        "    - Try to explain why those words are regarded similar in Word2Vec, considering how it was trained\n",
        "   "
      ]
    },
    {
      "cell_type": "code",
      "execution_count": null,
      "id": "ccd292a8",
      "metadata": {
        "id": "ccd292a8"
      },
      "outputs": [],
      "source": [
        "target_word = 'sogang' # Enter your word string here\n",
        "# check the word is in the vocabulary of the model\n",
        "assert model.has_index_for(target_word), f\"The selected word, {target_word}, is not included in the model's vocabulary\"\n",
        "model.most_similar(target_word)"
      ]
    },
    {
      "cell_type": "markdown",
      "id": "43c9e1b0",
      "metadata": {
        "id": "43c9e1b0"
      },
      "source": [
        "## Problem 2. Word Analogy (10 pts)\n",
        "- Another interesting thing you can play with Word2Vec is word analogy\n",
        "- Word analogy is done by adding and subtracting the word vector\n",
        "- In the cell below, you can run an example like this\n",
        "    - ``analogy('man', 'king', 'woman')`` represents a question of \"man is to king as woman is to what?\"\n",
        "- Try with your own choice.\n",
        "- **In your report**, present at least **5** interesting examples of your choice\n",
        "    - You can include the failure case\n",
        "    - Describe what did you expect and why the result was interesting for you"
      ]
    },
    {
      "cell_type": "code",
      "execution_count": null,
      "id": "b75a2f6a",
      "metadata": {
        "id": "b75a2f6a"
      },
      "outputs": [],
      "source": [
        "def analogy(model, x1, x2, y1):\n",
        "  pp.pprint(model.most_similar([x2, y1], negative=[x1]))\n",
        "\n",
        "# Try with your own word choice\n",
        "analogy(model, 'man', 'king', 'woman')"
      ]
    },
    {
      "cell_type": "markdown",
      "id": "1c29f5df",
      "metadata": {
        "id": "1c29f5df"
      },
      "source": [
        "## Problem 3. Simple Mathematics with Word2Vec (10 pts)\n",
        "- In this problem, you have to complete the given functions ``word_analogy_with_vector`` and ``get_cosine_similarity``\n",
        "- In your report, please include your code for these functions"
      ]
    },
    {
      "cell_type": "code",
      "execution_count": null,
      "id": "dbb11a51",
      "metadata": {
        "scrolled": true,
        "id": "dbb11a51"
      },
      "outputs": [],
      "source": [
        "def word_analogy_with_vector(model, x_1, x_2, y_1):\n",
        "  '''\n",
        "  This function takes a gensim Word2Vec model and outputs a vector to find y2 that corresponds to x_1 → x_2 == y_1 → y_2\n",
        "  e.g. x_1 (man) → x_2 (king) == y_1 (woman) → y_2(?)\n",
        "  \n",
        "  inputs\n",
        "  model (gensim.models.keyedvectors.KeyedVectors): Word2Vec model in KeyedVectors in gensim library\n",
        "  x_1, x_2, y_1 (str): Words in the model's vocabulary.\n",
        "  \n",
        "  output (np.ndarray): A vector in np.ndarray, which can be used to find proper y_2 for given (model, x_1, x_2, y_1)\n",
        "  '''\n",
        "  \n",
        "  # Write your code from here\n",
        "  model[x_2]-model{x_1}+model[y_1]\n",
        "  return\n",
        "\n",
        "\n",
        "# test whether the function works well\n",
        "result_vector = word_analogy_with_vector(model, 'man', 'king', 'woman')\n",
        "print('result vector is ', result_vector)\n",
        "assert isinstance(result_vector, np.ndarray), \"Output of the function has to be np.ndarray\"\n",
        "model.most_similar(result_vector)"
      ]
    },
    {
      "cell_type": "code",
      "execution_count": null,
      "id": "6dd3e583",
      "metadata": {
        "id": "6dd3e583"
      },
      "outputs": [],
      "source": [
        "def get_cosine_similarity(model, x, y):\n",
        "  '''\n",
        "  This function returns cosine similarity of x,y\n",
        "  \n",
        "  inputs\n",
        "  model (gensim.models.keyedvectors.KeyedVectors): Word2Vec model in KeyedVectors in gensim library\n",
        "  x, y (str): Words in the model's vocabulary.\n",
        "  \n",
        "  output\n",
        "  similarity (float): cosine similarity between x's vector and y's vector\n",
        "  '''\n",
        "  # Write your codes from here\n",
        "  return\n",
        "\n",
        "# test the output with your own choice\n",
        "word_a = 'good'\n",
        "word_b = 'bad'\n",
        "\n",
        "similarity = get_cosine_similarity(model, word_a, word_b)\n",
        "print(similarity)\n",
        "assert -1 <= similarity <= 1, \"Similarity has to be between 0 and 1\"\n",
        "\n",
        "print('gensim library result:', model.similarity(word_a, word_b))"
      ]
    },
    {
      "cell_type": "markdown",
      "id": "084dc056",
      "metadata": {
        "id": "084dc056"
      },
      "source": [
        "## Problem 4. Visualize Word Vectors (10 pts)\n",
        "- Select a list of words of your interest\n",
        "    - **At least 30 words for minimum** \n",
        "    - ``word_list`` is a list of strings\n",
        "    - every element in ``word_list`` has to be included in the model's vocabulary\n",
        "- Visualize the vectors of words using dimensionality reduction (in this case, PCA)\n",
        "- In your report, describe how words are located in 2D space\n",
        "    - How are the words clustered?\n",
        "    - Do you think the words are properly located based on their semantic meanings?\n",
        "    - Is there anything suprising or unexpected examples?"
      ]
    },
    {
      "cell_type": "code",
      "execution_count": null,
      "id": "57c0d085",
      "metadata": {
        "id": "57c0d085"
      },
      "outputs": [],
      "source": [
        "# Run this cell to \n",
        "import matplotlib.pyplot as plt\n",
        "from sklearn.decomposition import PCA\n",
        "\n",
        "def display_pca_scatterplot(model, words=None, sample=0):\n",
        "  if len(words) < 30:\n",
        "    print(\"WARNING: For your report, please select more than 30 word samples for the visualization\")\n",
        "    print(f\"Current length of input word list: {len(words)}\")\n",
        "  word_vectors = np.array([model[w] for w in words])\n",
        "\n",
        "  twodim = PCA().fit_transform(word_vectors)[:,:2]\n",
        "\n",
        "  plt.figure(figsize=(12,12))\n",
        "  plt.scatter(twodim[:,0], twodim[:,1], edgecolors='k', c='r')\n",
        "  for word, (x,y) in zip(words, twodim):\n",
        "      plt.text(x+0.05, y+0.05, word, fontsize=15)\n",
        "\n"
      ]
    },
    {
      "cell_type": "code",
      "execution_count": null,
      "id": "7f61a201",
      "metadata": {
        "id": "7f61a201"
      },
      "outputs": [],
      "source": [
        "# Select word list of your own interests\n",
        "word_list = [\n",
        "]\n",
        "\n",
        "display_pca_scatterplot(model, word_list)"
      ]
    },
    {
      "cell_type": "markdown",
      "id": "03303d90",
      "metadata": {
        "id": "03303d90"
      },
      "source": [
        "## Problem 5. Compare different models (10 pts)\n",
        "- Word2Vec models can be trained on different corpus (text) or with different embedding size\n",
        "- The goal of this problem is to compare two different models with *different embedding size*\n",
        "- Select two models with different embedding size but the same training corpus\n",
        "    - e.g.  ``'glove-wiki-gigaword-50'``, ``'glove-wiki-gigaword-300'``\n",
        "\n",
        "- In your report, present at least **5** interesting examples that makes different result by model selection\n",
        "    - You can compare some word analogy examples or similairites or visualization"
      ]
    },
    {
      "cell_type": "code",
      "execution_count": null,
      "id": "586ff05c",
      "metadata": {
        "id": "586ff05c"
      },
      "outputs": [],
      "source": [
        "# list the model name again if you want\n",
        "list(gensim.downloader.info()['models'].keys())"
      ]
    },
    {
      "cell_type": "code",
      "execution_count": null,
      "id": "15a8f779",
      "metadata": {
        "scrolled": false,
        "id": "15a8f779"
      },
      "outputs": [],
      "source": [
        "# select your model code \n",
        "small_model_code = ''\n",
        "large_model_code = ''\n",
        "\n",
        "small_model = gensim.downloader.load(small_model_code)\n",
        "large_model = gensim.downloader.load(large_model_code)"
      ]
    },
    {
      "cell_type": "code",
      "execution_count": null,
      "id": "5b528bc3",
      "metadata": {
        "id": "5b528bc3"
      },
      "outputs": [],
      "source": [
        "# repeat problem 1,2,4 of your choice to compare small_model and large_model"
      ]
    }
  ],
  "metadata": {
    "kernelspec": {
      "display_name": "Python 3 (ipykernel)",
      "language": "python",
      "name": "python3"
    },
    "language_info": {
      "codemirror_mode": {
        "name": "ipython",
        "version": 3
      },
      "file_extension": ".py",
      "mimetype": "text/x-python",
      "name": "python",
      "nbconvert_exporter": "python",
      "pygments_lexer": "ipython3",
      "version": "3.8.10"
    },
    "colab": {
      "name": "“Assignment1.ipynb”的副本",
      "provenance": [],
      "include_colab_link": true
    }
  },
  "nbformat": 4,
  "nbformat_minor": 5
}